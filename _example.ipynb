{
 "cells": [
  {
   "cell_type": "code",
   "execution_count": 1,
   "metadata": {},
   "outputs": [],
   "source": [
    "from qiskit_metal import draw, Dict, designs, MetalGUI\n",
    "from qiskit_metal.designs.design_multiplanar import MultiPlanar\n",
    "from qiskit_metal.toolbox_metal import math_and_overrides\n",
    "from qiskit_metal.qlibrary.core import QComponent\n",
    "import qiskit_metal as metal\n",
    "# ?metal.qlibrary.core.QComponent.add_qgeometry\n",
    "\n",
    "design = MultiPlanar()\n",
    "gui = metal.MetalGUI(design)\n",
    "design.overwrite_enabled = True"
   ]
  },
  {
   "cell_type": "code",
   "execution_count": 2,
   "metadata": {},
   "outputs": [],
   "source": [
    "from inductive_coupler import InductiveCoupler\n",
    "\n",
    "options = dict(\n",
    "    prime_width='10um',\n",
    "    prime_gap='6um',\n",
    "    second_width='10um',\n",
    "    second_gap='6um',\n",
    "    coupling_space='3um',\n",
    "    coupling_length='100um',\n",
    "    down_length='50um',\n",
    "    fillet='25um',\n",
    "    mirror=False,\n",
    "    pos_x = '500um',\n",
    "    pos_y = '500um'\n",
    ")\n",
    "\n",
    "icoupler = InductiveCoupler(design, 'i_coupler', options = options)"
   ]
  },
  {
   "cell_type": "code",
   "execution_count": 3,
   "metadata": {},
   "outputs": [],
   "source": [
    "from qiskit_metal.qlibrary.terminations.open_to_ground import OpenToGround\n",
    "\n",
    "otg_options = dict(width = '10um', \n",
    "                   gap = '6um', \n",
    "                #    termination_gap = '500um',\n",
    "                   pos_x='-1000um',  \n",
    "                   pos_y='-1000um', \n",
    "                   orientation='-90')\n",
    "\n",
    "otg = OpenToGround(design, 'otg1', options=otg_options)\n",
    "\n",
    "otg_options = dict(width = '10um', \n",
    "                   gap = '6um', \n",
    "                #    termination_gap = '500um',\n",
    "                   pos_x='1000um',  \n",
    "                   pos_y='-1000um', \n",
    "                   orientation='-90')\n",
    "\n",
    "otg = OpenToGround(design, 'otg2', options=otg_options)\n",
    "\n",
    "from qiskit_metal.qlibrary.tlines.meandered import RouteMeander"
   ]
  },
  {
   "cell_type": "code",
   "execution_count": 4,
   "metadata": {},
   "outputs": [],
   "source": [
    "from cavity_feedline import CavityFeedline\n",
    "\n",
    "cavity_opts = Dict(\n",
    "    # orientation = '180',\n",
    "    coupling_type = 'capacitive',\n",
    "    coupler_options = Dict(\n",
    "        prime_width='10um',\n",
    "        # orientation = '180'\n",
    "    ),\n",
    "    cpw_options = dict(\n",
    "        total_length = '6000um',\n",
    "        pin_inputs = dict(\n",
    "            start_pin = dict(\n",
    "                component = 'otg2',\n",
    "                pin = 'open'\n",
    "            ),\n",
    "            end_pin = dict(\n",
    "                component = 'otg1',\n",
    "                pin = 'open'\n",
    "            )\n",
    "        ),\n",
    "        # left_fillet = '49.9um',\n",
    "        # right_fillet = '100um',\n",
    "        # left_lead = dict(start_straight = '100um')\n",
    "        left_options = Dict(\n",
    "            fillet = '50um',\n",
    "            # lead = Dict(\n",
    "            #     start_straight = '200um'\n",
    "            # ),\n",
    "            # trace_width = '40um',\n",
    "            # trace_gap = '20um'\n",
    "        ),\n",
    "        right_options = Dict(\n",
    "            fillet = '50um',\n",
    "            # trace_width = '20um',\n",
    "            # trace_gap = '10um'\n",
    "        )\n",
    "    )\n",
    ")\n",
    "\n",
    "# print(type(cavity_opts))\n",
    "# print(isinstance(cavity_opts, dict))\n",
    "cavity=CavityFeedline(design, 'cavity', options=cavity_opts)"
   ]
  },
  {
   "cell_type": "code",
   "execution_count": 2,
   "metadata": {},
   "outputs": [],
   "source": [
    "from qubit_cavity import QubitCavity\n",
    "\n",
    "qubitcavity_opts = dict(\n",
    "    \n",
    ")\n",
    "\n",
    "qc = QubitCavity(design, 'qubit_cavity', options = qubitcavity_opts)"
   ]
  },
  {
   "cell_type": "code",
   "execution_count": 3,
   "metadata": {},
   "outputs": [],
   "source": [
    "gui.rebuild()\n",
    "gui.autoscale()\n",
    "# gui.zoom_on_components(['cavity'])\n",
    "# gui.screenshot()"
   ]
  },
  {
   "cell_type": "code",
   "execution_count": 4,
   "metadata": {},
   "outputs": [
    {
     "ename": "ModuleNotFoundError",
     "evalue": "No module named 'ansys_qiskitmetal'",
     "output_type": "error",
     "traceback": [
      "\u001b[1;31m---------------------------------------------------------------------------\u001b[0m",
      "\u001b[1;31mModuleNotFoundError\u001b[0m                       Traceback (most recent call last)",
      "Cell \u001b[1;32mIn[4], line 1\u001b[0m\n\u001b[1;32m----> 1\u001b[0m \u001b[39mfrom\u001b[39;00m \u001b[39mansys_qiskitmetal\u001b[39;00m \u001b[39mimport\u001b[39;00m AnsysQiskitMetal\n\u001b[0;32m      3\u001b[0m ansys \u001b[39m=\u001b[39m AnsysQiskitMetal(\n\u001b[0;32m      4\u001b[0m     design,\n\u001b[0;32m      5\u001b[0m     qubit_name\u001b[39m=\u001b[39mqubit_name,\n\u001b[1;32m   (...)\u001b[0m\n\u001b[0;32m      8\u001b[0m     feedline_name\u001b[39m=\u001b[39mfeedline_name\n\u001b[0;32m      9\u001b[0m )\n",
      "File \u001b[1;32m~\\.conda\\envs\\qiskit_metal\\Lib\\site-packages\\shiboken2\\files.dir\\shibokensupport\\feature.py:139\u001b[0m, in \u001b[0;36m_import\u001b[1;34m(name, *args, **kwargs)\u001b[0m\n\u001b[0;32m    137\u001b[0m     default \u001b[39m=\u001b[39m \u001b[39m0\u001b[39m \u001b[39mif\u001b[39;00m name\u001b[39m.\u001b[39msplit(\u001b[39m\"\u001b[39m\u001b[39m.\u001b[39m\u001b[39m\"\u001b[39m)[\u001b[39m0\u001b[39m] \u001b[39m==\u001b[39m \u001b[39m\"\u001b[39m\u001b[39mPySide2\u001b[39m\u001b[39m\"\u001b[39m \u001b[39melse\u001b[39;00m \u001b[39m-\u001b[39m\u001b[39m1\u001b[39m\n\u001b[0;32m    138\u001b[0m     pyside_feature_dict[importing_module] \u001b[39m=\u001b[39m default\n\u001b[1;32m--> 139\u001b[0m \u001b[39mreturn\u001b[39;00m original_import(name, \u001b[39m*\u001b[39;49margs, \u001b[39m*\u001b[39;49m\u001b[39m*\u001b[39;49mkwargs)\n",
      "\u001b[1;31mModuleNotFoundError\u001b[0m: No module named 'ansys_qiskitmetal'"
     ]
    }
   ],
   "source": [
    "from ansys_qiskitmetal import AnsysQiskitMetal\n",
    "\n",
    "ansys = AnsysQiskitMetal(\n",
    "    design,\n",
    "    qubit_name=qubit_name,\n",
    "    connection_pad_name=connection_pad_name,\n",
    "    cpws_names=[cavity_name],\n",
    "    feedline_name=feedline_name\n",
    ")"
   ]
  }
 ],
 "metadata": {
  "kernelspec": {
   "display_name": "qiskit_metal",
   "language": "python",
   "name": "qiskit_metal"
  },
  "language_info": {
   "codemirror_mode": {
    "name": "ipython",
    "version": 3
   },
   "file_extension": ".py",
   "mimetype": "text/x-python",
   "name": "python",
   "nbconvert_exporter": "python",
   "pygments_lexer": "ipython3",
   "version": "3.11.4"
  },
  "orig_nbformat": 4
 },
 "nbformat": 4,
 "nbformat_minor": 2
}
