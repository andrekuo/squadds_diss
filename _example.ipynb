{
 "cells": [
  {
   "cell_type": "code",
   "execution_count": 1,
   "metadata": {},
   "outputs": [],
   "source": [
    "from qiskit_metal import draw, Dict, designs, MetalGUI\n",
    "from qiskit_metal.designs.design_multiplanar import MultiPlanar\n",
    "from qiskit_metal.toolbox_metal import math_and_overrides\n",
    "from qiskit_metal.qlibrary.core import QComponent\n",
    "import qiskit_metal as metal\n",
    "# ?metal.qlibrary.core.QComponent.add_qgeometry\n",
    "\n",
    "design = MultiPlanar()\n",
    "gui = metal.MetalGUI(design)\n",
    "design.overwrite_enabled = True"
   ]
  },
  {
   "cell_type": "code",
   "execution_count": 4,
   "metadata": {},
   "outputs": [],
   "source": [
    "from inductive_coupler import InductiveCoupler\n",
    "\n",
    "options = dict(\n",
    "    prime_width='10um',\n",
    "    prime_gap='6um',\n",
    "    second_width='10um',\n",
    "    second_gap='6um',\n",
    "    coupling_space='3um',\n",
    "    coupling_length='100um',\n",
    "    down_length='50um',\n",
    "    fillet='25um',\n",
    "    mirror=False,\n",
    ")\n",
    "\n",
    "icoupler = InductiveCoupler(design, 'i_coupler', options = options)"
   ]
  },
  {
   "cell_type": "code",
   "execution_count": 2,
   "metadata": {},
   "outputs": [
    {
     "name": "stderr",
     "output_type": "stream",
     "text": [
      "04:24PM 08s ERROR [__getitem__]: \n",
      "Warning: User tried to access a variable in the parse options that is not there!\n",
      " Component name = `cavity`\n",
      " Option name    = `coupler_options.keys`\n",
      "04:24PM 08s ERROR [__getitem__]: \n",
      "Warning: User tried to access a variable in the parse options that is not there!\n",
      " Component name = `cavity`\n",
      " Option name    = `coupler_options.keys`\n",
      "04:24PM 08s ERROR [__getitem__]: \n",
      "Warning: User tried to access a variable in the parse options that is not there!\n",
      " Component name = `cavity`\n",
      " Option name    = `coupler_options.keys`\n",
      "04:24PM 08s ERROR [rebuild]: ERROR in building component name=cavity, error='NoneType' object is not callable\n"
     ]
    },
    {
     "name": "stdout",
     "output_type": "stream",
     "text": [
      "##############################\n",
      "None\n"
     ]
    },
    {
     "ename": "TypeError",
     "evalue": "'NoneType' object is not callable",
     "output_type": "error",
     "traceback": [
      "\u001b[1;31m---------------------------------------------------------------------------\u001b[0m",
      "\u001b[1;31mTypeError\u001b[0m                                 Traceback (most recent call last)",
      "Cell \u001b[1;32mIn[2], line 6\u001b[0m\n\u001b[0;32m      1\u001b[0m \u001b[39mfrom\u001b[39;00m \u001b[39mcavity_feedline\u001b[39;00m \u001b[39mimport\u001b[39;00m CavityFeedline\n\u001b[0;32m      3\u001b[0m options \u001b[39m=\u001b[39m Dict(\n\u001b[0;32m      4\u001b[0m )\n\u001b[1;32m----> 6\u001b[0m cavity\u001b[39m=\u001b[39mCavityFeedline(design, \u001b[39m'\u001b[39;49m\u001b[39mcavity\u001b[39;49m\u001b[39m'\u001b[39;49m, options\u001b[39m=\u001b[39;49moptions)\n",
      "File \u001b[1;32mc:\\users\\lfl\\qiskit-metal\\qiskit_metal\\qlibrary\\core\\base.py:262\u001b[0m, in \u001b[0;36mQComponent.__init__\u001b[1;34m(self, design, name, options, make, component_template)\u001b[0m\n\u001b[0;32m    260\u001b[0m \u001b[39m# Make the component geometry\u001b[39;00m\n\u001b[0;32m    261\u001b[0m \u001b[39mif\u001b[39;00m make:\n\u001b[1;32m--> 262\u001b[0m     \u001b[39mself\u001b[39;49m\u001b[39m.\u001b[39;49mrebuild()\n",
      "File \u001b[1;32mc:\\users\\lfl\\qiskit-metal\\qiskit_metal\\qlibrary\\core\\base.py:724\u001b[0m, in \u001b[0;36mQComponent.rebuild\u001b[1;34m(self)\u001b[0m\n\u001b[0;32m    719\u001b[0m \u001b[39mself\u001b[39m\u001b[39m.\u001b[39mlogger\u001b[39m.\u001b[39merror(\n\u001b[0;32m    720\u001b[0m     \u001b[39mf\u001b[39m\u001b[39m'\u001b[39m\u001b[39mERROR in building component name=\u001b[39m\u001b[39m{\u001b[39;00m\u001b[39mself\u001b[39m\u001b[39m.\u001b[39mname\u001b[39m}\u001b[39;00m\u001b[39m, error=\u001b[39m\u001b[39m{\u001b[39;00merror\u001b[39m}\u001b[39;00m\u001b[39m'\u001b[39m)\n\u001b[0;32m    721\u001b[0m \u001b[39mself\u001b[39m\u001b[39m.\u001b[39mdesign\u001b[39m.\u001b[39mbuild_logs\u001b[39m.\u001b[39madd_error(\n\u001b[0;32m    722\u001b[0m     \u001b[39mf\u001b[39m\u001b[39m\"\u001b[39m\u001b[39m{\u001b[39;00m\u001b[39mstr\u001b[39m(datetime\u001b[39m.\u001b[39mnow())\u001b[39m}\u001b[39;00m\u001b[39m -- Component: \u001b[39m\u001b[39m{\u001b[39;00m\u001b[39mself\u001b[39m\u001b[39m.\u001b[39mname\u001b[39m}\u001b[39;00m\u001b[39m failed with error\u001b[39m\u001b[39m\\n\u001b[39;00m\u001b[39m: \u001b[39m\u001b[39m{\u001b[39;00merror\u001b[39m}\u001b[39;00m\u001b[39m\"\u001b[39m\n\u001b[0;32m    723\u001b[0m )\n\u001b[1;32m--> 724\u001b[0m \u001b[39mraise\u001b[39;00m error\n",
      "File \u001b[1;32mc:\\users\\lfl\\qiskit-metal\\qiskit_metal\\qlibrary\\core\\base.py:710\u001b[0m, in \u001b[0;36mQComponent.rebuild\u001b[1;34m(self)\u001b[0m\n\u001b[0;32m    707\u001b[0m     \u001b[39m# pylint: disable=protected-access\u001b[39;00m\n\u001b[0;32m    708\u001b[0m     \u001b[39mself\u001b[39m\u001b[39m.\u001b[39mdesign\u001b[39m.\u001b[39m_delete_all_pins_for_component(\u001b[39mself\u001b[39m\u001b[39m.\u001b[39mid)\n\u001b[1;32m--> 710\u001b[0m \u001b[39mself\u001b[39;49m\u001b[39m.\u001b[39;49mmake()\n\u001b[0;32m    711\u001b[0m \u001b[39mself\u001b[39m\u001b[39m.\u001b[39m_made \u001b[39m=\u001b[39m \u001b[39mTrue\u001b[39;00m\n\u001b[0;32m    712\u001b[0m \u001b[39mself\u001b[39m\u001b[39m.\u001b[39mstatus \u001b[39m=\u001b[39m \u001b[39m'\u001b[39m\u001b[39mgood\u001b[39m\u001b[39m'\u001b[39m\n",
      "File \u001b[1;32md:\\andre\\SQuADDS_diss\\cavity_feedline.py:78\u001b[0m, in \u001b[0;36mCavityFeedline.make\u001b[1;34m(self)\u001b[0m\n\u001b[0;32m     76\u001b[0m \u001b[39mdef\u001b[39;00m \u001b[39mmake\u001b[39m(\u001b[39mself\u001b[39m):\n\u001b[0;32m     77\u001b[0m     p \u001b[39m=\u001b[39m \u001b[39mself\u001b[39m\u001b[39m.\u001b[39mp\n\u001b[1;32m---> 78\u001b[0m     \u001b[39mself\u001b[39;49m\u001b[39m.\u001b[39;49mmake_coupler()\n",
      "File \u001b[1;32md:\\andre\\SQuADDS_diss\\cavity_feedline.py:93\u001b[0m, in \u001b[0;36mCavityFeedline.make_coupler\u001b[1;34m(self)\u001b[0m\n\u001b[0;32m     91\u001b[0m \u001b[39mif\u001b[39;00m(p\u001b[39m.\u001b[39mcoupling_type \u001b[39m==\u001b[39m \u001b[39m\"\u001b[39m\u001b[39mcapacitive\u001b[39m\u001b[39m\"\u001b[39m):\n\u001b[0;32m     92\u001b[0m     \u001b[39mfrom\u001b[39;00m \u001b[39mqiskit_metal\u001b[39;00m\u001b[39m.\u001b[39;00m\u001b[39mqlibrary\u001b[39;00m\u001b[39m.\u001b[39;00m\u001b[39mcouplers\u001b[39;00m\u001b[39m.\u001b[39;00m\u001b[39mcoupled_line_tee\u001b[39;00m \u001b[39mimport\u001b[39;00m CoupledLineTee\n\u001b[1;32m---> 93\u001b[0m     CoupledLineTee(\u001b[39mself\u001b[39;49m\u001b[39m.\u001b[39;49mdesign, \u001b[39m\"\u001b[39;49m\u001b[39m{}\u001b[39;49;00m\u001b[39m_cap_coupler\u001b[39;49m\u001b[39m\"\u001b[39;49m\u001b[39m.\u001b[39;49mformat(\u001b[39mself\u001b[39;49m\u001b[39m.\u001b[39;49mname), options\u001b[39m=\u001b[39;49mp\u001b[39m.\u001b[39;49mcoupler_options)\n\u001b[0;32m     94\u001b[0m \u001b[39melif\u001b[39;00m(p\u001b[39m.\u001b[39mcoupling_type \u001b[39m==\u001b[39m \u001b[39m'\u001b[39m\u001b[39minductive\u001b[39m\u001b[39m'\u001b[39m):\n\u001b[0;32m     95\u001b[0m     \u001b[39mfrom\u001b[39;00m \u001b[39minductive_coupler\u001b[39;00m \u001b[39mimport\u001b[39;00m InductiveCoupler\n",
      "File \u001b[1;32mc:\\users\\lfl\\qiskit-metal\\qiskit_metal\\qlibrary\\core\\base.py:212\u001b[0m, in \u001b[0;36mQComponent.__init__\u001b[1;34m(self, design, name, options, make, component_template)\u001b[0m\n\u001b[0;32m    209\u001b[0m \u001b[39mself\u001b[39m\u001b[39m.\u001b[39moptions \u001b[39m=\u001b[39m \u001b[39mself\u001b[39m\u001b[39m.\u001b[39mget_template_options(\n\u001b[0;32m    210\u001b[0m     design\u001b[39m=\u001b[39mdesign, component_template\u001b[39m=\u001b[39mcomponent_template)\n\u001b[0;32m    211\u001b[0m \u001b[39mif\u001b[39;00m options:\n\u001b[1;32m--> 212\u001b[0m     \u001b[39mself\u001b[39;49m\u001b[39m.\u001b[39;49moptions\u001b[39m.\u001b[39;49mupdate(options)\n\u001b[0;32m    214\u001b[0m \u001b[39m# Parser for options\u001b[39;00m\n\u001b[0;32m    215\u001b[0m \u001b[39mself\u001b[39m\u001b[39m.\u001b[39mp \u001b[39m=\u001b[39m ParsedDynamicAttributes_Component(\u001b[39mself\u001b[39m)\n",
      "File \u001b[1;32mc:\\Users\\lfl\\.conda\\envs\\qiskit_metal\\Lib\\site-packages\\addict\\addict.py:108\u001b[0m, in \u001b[0;36mDict.update\u001b[1;34m(self, *args, **kwargs)\u001b[0m\n\u001b[0;32m    106\u001b[0m     \u001b[39mif\u001b[39;00m \u001b[39mlen\u001b[39m(args) \u001b[39m>\u001b[39m \u001b[39m1\u001b[39m:\n\u001b[0;32m    107\u001b[0m         \u001b[39mraise\u001b[39;00m \u001b[39mTypeError\u001b[39;00m()\n\u001b[1;32m--> 108\u001b[0m     other\u001b[39m.\u001b[39;49mupdate(args[\u001b[39m0\u001b[39;49m])\n\u001b[0;32m    109\u001b[0m other\u001b[39m.\u001b[39mupdate(kwargs)\n\u001b[0;32m    110\u001b[0m \u001b[39mfor\u001b[39;00m k, v \u001b[39min\u001b[39;00m other\u001b[39m.\u001b[39mitems():\n",
      "\u001b[1;31mTypeError\u001b[0m: 'NoneType' object is not callable"
     ]
    }
   ],
   "source": [
    "from cavity_feedline import CavityFeedline\n",
    "\n",
    "options = Dict(\n",
    ")\n",
    "\n",
    "cavity=CavityFeedline(design, 'cavity', options=options)"
   ]
  },
  {
   "cell_type": "code",
   "execution_count": 3,
   "metadata": {},
   "outputs": [
    {
     "name": "stderr",
     "output_type": "stream",
     "text": [
      "04:24PM 11s ERROR [__getitem__]: \n",
      "Warning: User tried to access a variable in the parse options that is not there!\n",
      " Component name = `cavity`\n",
      " Option name    = `coupler_options.keys`\n",
      "04:24PM 11s ERROR [__getitem__]: \n",
      "Warning: User tried to access a variable in the parse options that is not there!\n",
      " Component name = `cavity`\n",
      " Option name    = `coupler_options.keys`\n",
      "04:24PM 11s ERROR [__getitem__]: \n",
      "Warning: User tried to access a variable in the parse options that is not there!\n",
      " Component name = `cavity`\n",
      " Option name    = `coupler_options.keys`\n",
      "04:24PM 11s ERROR [rebuild]: ERROR in building component name=cavity, error='NoneType' object is not callable\n"
     ]
    },
    {
     "name": "stdout",
     "output_type": "stream",
     "text": [
      "##############################\n",
      "None\n"
     ]
    },
    {
     "ename": "TypeError",
     "evalue": "'NoneType' object is not callable",
     "output_type": "error",
     "traceback": [
      "\u001b[1;31m---------------------------------------------------------------------------\u001b[0m",
      "\u001b[1;31mTypeError\u001b[0m                                 Traceback (most recent call last)",
      "Cell \u001b[1;32mIn[3], line 1\u001b[0m\n\u001b[1;32m----> 1\u001b[0m gui\u001b[39m.\u001b[39;49mrebuild()\n\u001b[0;32m      2\u001b[0m gui\u001b[39m.\u001b[39mautoscale()\n\u001b[0;32m      3\u001b[0m gui\u001b[39m.\u001b[39mzoom_on_components([\u001b[39m'\u001b[39m\u001b[39mcavity\u001b[39m\u001b[39m'\u001b[39m])\n",
      "File \u001b[1;32mc:\\users\\lfl\\qiskit-metal\\qiskit_metal\\_gui\\main_window.py:793\u001b[0m, in \u001b[0;36mMetalGUI.rebuild\u001b[1;34m(self, autoscale)\u001b[0m\n\u001b[0;32m    788\u001b[0m \u001b[39mdef\u001b[39;00m \u001b[39mrebuild\u001b[39m(\u001b[39mself\u001b[39m, autoscale: \u001b[39mbool\u001b[39m \u001b[39m=\u001b[39m \u001b[39mFalse\u001b[39;00m):\n\u001b[0;32m    789\u001b[0m \u001b[39m    \u001b[39m\u001b[39m\"\"\"\u001b[39;00m\n\u001b[0;32m    790\u001b[0m \u001b[39m    Rebuild all components in the design from scratch and refresh the gui.\u001b[39;00m\n\u001b[0;32m    791\u001b[0m \u001b[39m    \"\"\"\u001b[39;00m\n\u001b[1;32m--> 793\u001b[0m     \u001b[39mself\u001b[39;49m\u001b[39m.\u001b[39;49mdesign\u001b[39m.\u001b[39;49mrebuild()\n\u001b[0;32m    794\u001b[0m     \u001b[39mself\u001b[39m\u001b[39m.\u001b[39mrefresh()\n\u001b[0;32m    795\u001b[0m     \u001b[39mif\u001b[39;00m autoscale:\n",
      "File \u001b[1;32mc:\\users\\lfl\\qiskit-metal\\qiskit_metal\\designs\\design_base.py:469\u001b[0m, in \u001b[0;36mQDesign.rebuild\u001b[1;34m(self)\u001b[0m\n\u001b[0;32m    467\u001b[0m \u001b[39m\u001b[39m\u001b[39m\"\"\"Remakes all components with their current parameters.\"\"\"\u001b[39;00m\n\u001b[0;32m    468\u001b[0m \u001b[39mfor\u001b[39;00m _, obj \u001b[39min\u001b[39;00m \u001b[39mself\u001b[39m\u001b[39m.\u001b[39m_components\u001b[39m.\u001b[39mitems():  \u001b[39m# pylint: disable=unused-variable\u001b[39;00m\n\u001b[1;32m--> 469\u001b[0m     obj\u001b[39m.\u001b[39;49mrebuild()\n",
      "File \u001b[1;32mc:\\users\\lfl\\qiskit-metal\\qiskit_metal\\qlibrary\\core\\base.py:724\u001b[0m, in \u001b[0;36mQComponent.rebuild\u001b[1;34m(self)\u001b[0m\n\u001b[0;32m    719\u001b[0m \u001b[39mself\u001b[39m\u001b[39m.\u001b[39mlogger\u001b[39m.\u001b[39merror(\n\u001b[0;32m    720\u001b[0m     \u001b[39mf\u001b[39m\u001b[39m'\u001b[39m\u001b[39mERROR in building component name=\u001b[39m\u001b[39m{\u001b[39;00m\u001b[39mself\u001b[39m\u001b[39m.\u001b[39mname\u001b[39m}\u001b[39;00m\u001b[39m, error=\u001b[39m\u001b[39m{\u001b[39;00merror\u001b[39m}\u001b[39;00m\u001b[39m'\u001b[39m)\n\u001b[0;32m    721\u001b[0m \u001b[39mself\u001b[39m\u001b[39m.\u001b[39mdesign\u001b[39m.\u001b[39mbuild_logs\u001b[39m.\u001b[39madd_error(\n\u001b[0;32m    722\u001b[0m     \u001b[39mf\u001b[39m\u001b[39m\"\u001b[39m\u001b[39m{\u001b[39;00m\u001b[39mstr\u001b[39m(datetime\u001b[39m.\u001b[39mnow())\u001b[39m}\u001b[39;00m\u001b[39m -- Component: \u001b[39m\u001b[39m{\u001b[39;00m\u001b[39mself\u001b[39m\u001b[39m.\u001b[39mname\u001b[39m}\u001b[39;00m\u001b[39m failed with error\u001b[39m\u001b[39m\\n\u001b[39;00m\u001b[39m: \u001b[39m\u001b[39m{\u001b[39;00merror\u001b[39m}\u001b[39;00m\u001b[39m\"\u001b[39m\n\u001b[0;32m    723\u001b[0m )\n\u001b[1;32m--> 724\u001b[0m \u001b[39mraise\u001b[39;00m error\n",
      "File \u001b[1;32mc:\\users\\lfl\\qiskit-metal\\qiskit_metal\\qlibrary\\core\\base.py:710\u001b[0m, in \u001b[0;36mQComponent.rebuild\u001b[1;34m(self)\u001b[0m\n\u001b[0;32m    707\u001b[0m     \u001b[39m# pylint: disable=protected-access\u001b[39;00m\n\u001b[0;32m    708\u001b[0m     \u001b[39mself\u001b[39m\u001b[39m.\u001b[39mdesign\u001b[39m.\u001b[39m_delete_all_pins_for_component(\u001b[39mself\u001b[39m\u001b[39m.\u001b[39mid)\n\u001b[1;32m--> 710\u001b[0m \u001b[39mself\u001b[39;49m\u001b[39m.\u001b[39;49mmake()\n\u001b[0;32m    711\u001b[0m \u001b[39mself\u001b[39m\u001b[39m.\u001b[39m_made \u001b[39m=\u001b[39m \u001b[39mTrue\u001b[39;00m\n\u001b[0;32m    712\u001b[0m \u001b[39mself\u001b[39m\u001b[39m.\u001b[39mstatus \u001b[39m=\u001b[39m \u001b[39m'\u001b[39m\u001b[39mgood\u001b[39m\u001b[39m'\u001b[39m\n",
      "File \u001b[1;32md:\\andre\\SQuADDS_diss\\cavity_feedline.py:78\u001b[0m, in \u001b[0;36mCavityFeedline.make\u001b[1;34m(self)\u001b[0m\n\u001b[0;32m     76\u001b[0m \u001b[39mdef\u001b[39;00m \u001b[39mmake\u001b[39m(\u001b[39mself\u001b[39m):\n\u001b[0;32m     77\u001b[0m     p \u001b[39m=\u001b[39m \u001b[39mself\u001b[39m\u001b[39m.\u001b[39mp\n\u001b[1;32m---> 78\u001b[0m     \u001b[39mself\u001b[39;49m\u001b[39m.\u001b[39;49mmake_coupler()\n",
      "File \u001b[1;32md:\\andre\\SQuADDS_diss\\cavity_feedline.py:93\u001b[0m, in \u001b[0;36mCavityFeedline.make_coupler\u001b[1;34m(self)\u001b[0m\n\u001b[0;32m     91\u001b[0m \u001b[39mif\u001b[39;00m(p\u001b[39m.\u001b[39mcoupling_type \u001b[39m==\u001b[39m \u001b[39m\"\u001b[39m\u001b[39mcapacitive\u001b[39m\u001b[39m\"\u001b[39m):\n\u001b[0;32m     92\u001b[0m     \u001b[39mfrom\u001b[39;00m \u001b[39mqiskit_metal\u001b[39;00m\u001b[39m.\u001b[39;00m\u001b[39mqlibrary\u001b[39;00m\u001b[39m.\u001b[39;00m\u001b[39mcouplers\u001b[39;00m\u001b[39m.\u001b[39;00m\u001b[39mcoupled_line_tee\u001b[39;00m \u001b[39mimport\u001b[39;00m CoupledLineTee\n\u001b[1;32m---> 93\u001b[0m     CoupledLineTee(\u001b[39mself\u001b[39;49m\u001b[39m.\u001b[39;49mdesign, \u001b[39m\"\u001b[39;49m\u001b[39m{}\u001b[39;49;00m\u001b[39m_cap_coupler\u001b[39;49m\u001b[39m\"\u001b[39;49m\u001b[39m.\u001b[39;49mformat(\u001b[39mself\u001b[39;49m\u001b[39m.\u001b[39;49mname), options\u001b[39m=\u001b[39;49mp\u001b[39m.\u001b[39;49mcoupler_options)\n\u001b[0;32m     94\u001b[0m \u001b[39melif\u001b[39;00m(p\u001b[39m.\u001b[39mcoupling_type \u001b[39m==\u001b[39m \u001b[39m'\u001b[39m\u001b[39minductive\u001b[39m\u001b[39m'\u001b[39m):\n\u001b[0;32m     95\u001b[0m     \u001b[39mfrom\u001b[39;00m \u001b[39minductive_coupler\u001b[39;00m \u001b[39mimport\u001b[39;00m InductiveCoupler\n",
      "File \u001b[1;32mc:\\users\\lfl\\qiskit-metal\\qiskit_metal\\qlibrary\\core\\base.py:212\u001b[0m, in \u001b[0;36mQComponent.__init__\u001b[1;34m(self, design, name, options, make, component_template)\u001b[0m\n\u001b[0;32m    209\u001b[0m \u001b[39mself\u001b[39m\u001b[39m.\u001b[39moptions \u001b[39m=\u001b[39m \u001b[39mself\u001b[39m\u001b[39m.\u001b[39mget_template_options(\n\u001b[0;32m    210\u001b[0m     design\u001b[39m=\u001b[39mdesign, component_template\u001b[39m=\u001b[39mcomponent_template)\n\u001b[0;32m    211\u001b[0m \u001b[39mif\u001b[39;00m options:\n\u001b[1;32m--> 212\u001b[0m     \u001b[39mself\u001b[39;49m\u001b[39m.\u001b[39;49moptions\u001b[39m.\u001b[39;49mupdate(options)\n\u001b[0;32m    214\u001b[0m \u001b[39m# Parser for options\u001b[39;00m\n\u001b[0;32m    215\u001b[0m \u001b[39mself\u001b[39m\u001b[39m.\u001b[39mp \u001b[39m=\u001b[39m ParsedDynamicAttributes_Component(\u001b[39mself\u001b[39m)\n",
      "File \u001b[1;32mc:\\Users\\lfl\\.conda\\envs\\qiskit_metal\\Lib\\site-packages\\addict\\addict.py:108\u001b[0m, in \u001b[0;36mDict.update\u001b[1;34m(self, *args, **kwargs)\u001b[0m\n\u001b[0;32m    106\u001b[0m     \u001b[39mif\u001b[39;00m \u001b[39mlen\u001b[39m(args) \u001b[39m>\u001b[39m \u001b[39m1\u001b[39m:\n\u001b[0;32m    107\u001b[0m         \u001b[39mraise\u001b[39;00m \u001b[39mTypeError\u001b[39;00m()\n\u001b[1;32m--> 108\u001b[0m     other\u001b[39m.\u001b[39;49mupdate(args[\u001b[39m0\u001b[39;49m])\n\u001b[0;32m    109\u001b[0m other\u001b[39m.\u001b[39mupdate(kwargs)\n\u001b[0;32m    110\u001b[0m \u001b[39mfor\u001b[39;00m k, v \u001b[39min\u001b[39;00m other\u001b[39m.\u001b[39mitems():\n",
      "\u001b[1;31mTypeError\u001b[0m: 'NoneType' object is not callable"
     ]
    }
   ],
   "source": [
    "gui.rebuild()\n",
    "gui.autoscale()\n",
    "gui.zoom_on_components(['cavity'])\n",
    "# gui.screenshot()"
   ]
  }
 ],
 "metadata": {
  "kernelspec": {
   "display_name": "qiskit_metal",
   "language": "python",
   "name": "qiskit_metal"
  },
  "language_info": {
   "codemirror_mode": {
    "name": "ipython",
    "version": 3
   },
   "file_extension": ".py",
   "mimetype": "text/x-python",
   "name": "python",
   "nbconvert_exporter": "python",
   "pygments_lexer": "ipython3",
   "version": "3.11.4"
  },
  "orig_nbformat": 4
 },
 "nbformat": 4,
 "nbformat_minor": 2
}
