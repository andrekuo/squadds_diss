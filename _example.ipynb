{
 "cells": [
  {
   "cell_type": "code",
   "execution_count": 1,
   "metadata": {},
   "outputs": [],
   "source": [
    "from qiskit_metal import draw, Dict, designs, MetalGUI\n",
    "from qiskit_metal.designs.design_multiplanar import MultiPlanar\n",
    "from qiskit_metal.toolbox_metal import math_and_overrides\n",
    "from qiskit_metal.qlibrary.core import QComponent\n",
    "import qiskit_metal as metal\n",
    "# ?metal.qlibrary.core.QComponent.add_qgeometry\n",
    "\n",
    "design = MultiPlanar()\n",
    "gui = metal.MetalGUI(design)\n",
    "design.overwrite_enabled = True"
   ]
  },
  {
   "cell_type": "code",
   "execution_count": 1,
   "metadata": {},
   "outputs": [
    {
     "ename": "KeyboardInterrupt",
     "evalue": "",
     "output_type": "error",
     "traceback": [
      "\u001b[1;31m---------------------------------------------------------------------------\u001b[0m",
      "\u001b[1;31mKeyboardInterrupt\u001b[0m                         Traceback (most recent call last)",
      "Cell \u001b[1;32mIn[1], line 1\u001b[0m\n\u001b[1;32m----> 1\u001b[0m \u001b[39mfrom\u001b[39;00m \u001b[39minductive_coupler\u001b[39;00m \u001b[39mimport\u001b[39;00m InductiveCoupler\n\u001b[0;32m      3\u001b[0m options \u001b[39m=\u001b[39m \u001b[39mdict\u001b[39m(\n\u001b[0;32m      4\u001b[0m     prime_width\u001b[39m=\u001b[39m\u001b[39m'\u001b[39m\u001b[39m10um\u001b[39m\u001b[39m'\u001b[39m,\n\u001b[0;32m      5\u001b[0m     prime_gap\u001b[39m=\u001b[39m\u001b[39m'\u001b[39m\u001b[39m6um\u001b[39m\u001b[39m'\u001b[39m,\n\u001b[1;32m   (...)\u001b[0m\n\u001b[0;32m     14\u001b[0m     pos_y \u001b[39m=\u001b[39m \u001b[39m'\u001b[39m\u001b[39m500um\u001b[39m\u001b[39m'\u001b[39m\n\u001b[0;32m     15\u001b[0m )\n\u001b[0;32m     17\u001b[0m icoupler \u001b[39m=\u001b[39m InductiveCoupler(design, \u001b[39m'\u001b[39m\u001b[39mi_coupler\u001b[39m\u001b[39m'\u001b[39m, options \u001b[39m=\u001b[39m options)\n",
      "File \u001b[1;32md:\\andre\\SQuADDS_diss\\inductive_coupler.py:1\u001b[0m\n\u001b[1;32m----> 1\u001b[0m \u001b[39mfrom\u001b[39;00m \u001b[39mqiskit_metal\u001b[39;00m \u001b[39mimport\u001b[39;00m draw, Dict\n\u001b[0;32m      2\u001b[0m \u001b[39mfrom\u001b[39;00m \u001b[39mqiskit_metal\u001b[39;00m\u001b[39m.\u001b[39;00m\u001b[39mqlibrary\u001b[39;00m\u001b[39m.\u001b[39;00m\u001b[39mcore\u001b[39;00m \u001b[39mimport\u001b[39;00m QComponent\n\u001b[0;32m      3\u001b[0m \u001b[39mimport\u001b[39;00m \u001b[39mnumpy\u001b[39;00m \u001b[39mas\u001b[39;00m \u001b[39mnp\u001b[39;00m\n",
      "File \u001b[1;32mc:\\users\\lfl\\qiskit-metal\\qiskit_metal\\__init__.py:139\u001b[0m\n\u001b[0;32m    136\u001b[0m \u001b[39mfrom\u001b[39;00m \u001b[39m.\u001b[39;00m\u001b[39m_is_design\u001b[39;00m \u001b[39mimport\u001b[39;00m is_design, is_component\n\u001b[0;32m    138\u001b[0m \u001b[39m# Core modules for user to use\u001b[39;00m\n\u001b[1;32m--> 139\u001b[0m \u001b[39mfrom\u001b[39;00m \u001b[39m.\u001b[39;00m\u001b[39mtoolbox_metal\u001b[39;00m\u001b[39m.\u001b[39;00m\u001b[39mparsing\u001b[39;00m \u001b[39mimport\u001b[39;00m is_true\n\u001b[0;32m    140\u001b[0m \u001b[39mfrom\u001b[39;00m \u001b[39m.\u001b[39;00m \u001b[39mimport\u001b[39;00m qlibrary\n\u001b[0;32m    141\u001b[0m \u001b[39mfrom\u001b[39;00m \u001b[39m.\u001b[39;00m \u001b[39mimport\u001b[39;00m designs\n",
      "File \u001b[1;32m~\\.conda\\envs\\qiskit_metal\\Lib\\site-packages\\shiboken2\\files.dir\\shibokensupport\\feature.py:139\u001b[0m, in \u001b[0;36m_import\u001b[1;34m(name, *args, **kwargs)\u001b[0m\n\u001b[0;32m    137\u001b[0m     default \u001b[39m=\u001b[39m \u001b[39m0\u001b[39m \u001b[39mif\u001b[39;00m name\u001b[39m.\u001b[39msplit(\u001b[39m\"\u001b[39m\u001b[39m.\u001b[39m\u001b[39m\"\u001b[39m)[\u001b[39m0\u001b[39m] \u001b[39m==\u001b[39m \u001b[39m\"\u001b[39m\u001b[39mPySide2\u001b[39m\u001b[39m\"\u001b[39m \u001b[39melse\u001b[39;00m \u001b[39m-\u001b[39m\u001b[39m1\u001b[39m\n\u001b[0;32m    138\u001b[0m     pyside_feature_dict[importing_module] \u001b[39m=\u001b[39m default\n\u001b[1;32m--> 139\u001b[0m \u001b[39mreturn\u001b[39;00m original_import(name, \u001b[39m*\u001b[39;49margs, \u001b[39m*\u001b[39;49m\u001b[39m*\u001b[39;49mkwargs)\n",
      "File \u001b[1;32mc:\\users\\lfl\\qiskit-metal\\qiskit_metal\\toolbox_metal\\__init__.py:53\u001b[0m\n\u001b[0;32m      1\u001b[0m \u001b[39m## -*- coding: utf-8 -*-\u001b[39;00m\n\u001b[0;32m      2\u001b[0m \n\u001b[0;32m      3\u001b[0m \u001b[39m# This code is part of Qiskit.\u001b[39;00m\n\u001b[1;32m   (...)\u001b[0m\n\u001b[0;32m     16\u001b[0m \u001b[39m# pylint: disable-msg=import-error\u001b[39;00m\n\u001b[0;32m     17\u001b[0m \u001b[39m# pylint: disable-msg=import-self\u001b[39;00m\n\u001b[0;32m     18\u001b[0m \u001b[39m\"\"\"\u001b[39;00m\n\u001b[0;32m     19\u001b[0m \u001b[39m=================================================\u001b[39;00m\n\u001b[0;32m     20\u001b[0m \u001b[39mToolbox_metal (:mod:`qiskit_metal.toolbox_metal`)\u001b[39;00m\n\u001b[1;32m   (...)\u001b[0m\n\u001b[0;32m     50\u001b[0m \n\u001b[0;32m     51\u001b[0m \u001b[39m\"\"\"\u001b[39;00m\n\u001b[1;32m---> 53\u001b[0m \u001b[39mfrom\u001b[39;00m \u001b[39m.\u001b[39;00m\u001b[39mparsing\u001b[39;00m \u001b[39mimport\u001b[39;00m parse_value\n\u001b[0;32m     54\u001b[0m \u001b[39mfrom\u001b[39;00m \u001b[39m.\u001b[39;00m\u001b[39mparsing\u001b[39;00m \u001b[39mimport\u001b[39;00m is_variable_name\n\u001b[0;32m     55\u001b[0m \u001b[39mfrom\u001b[39;00m \u001b[39m.\u001b[39;00m\u001b[39mparsing\u001b[39;00m \u001b[39mimport\u001b[39;00m is_numeric_possible\n",
      "File \u001b[1;32m~\\.conda\\envs\\qiskit_metal\\Lib\\site-packages\\shiboken2\\files.dir\\shibokensupport\\feature.py:139\u001b[0m, in \u001b[0;36m_import\u001b[1;34m(name, *args, **kwargs)\u001b[0m\n\u001b[0;32m    137\u001b[0m     default \u001b[39m=\u001b[39m \u001b[39m0\u001b[39m \u001b[39mif\u001b[39;00m name\u001b[39m.\u001b[39msplit(\u001b[39m\"\u001b[39m\u001b[39m.\u001b[39m\u001b[39m\"\u001b[39m)[\u001b[39m0\u001b[39m] \u001b[39m==\u001b[39m \u001b[39m\"\u001b[39m\u001b[39mPySide2\u001b[39m\u001b[39m\"\u001b[39m \u001b[39melse\u001b[39;00m \u001b[39m-\u001b[39m\u001b[39m1\u001b[39m\n\u001b[0;32m    138\u001b[0m     pyside_feature_dict[importing_module] \u001b[39m=\u001b[39m default\n\u001b[1;32m--> 139\u001b[0m \u001b[39mreturn\u001b[39;00m original_import(name, \u001b[39m*\u001b[39;49margs, \u001b[39m*\u001b[39;49m\u001b[39m*\u001b[39;49mkwargs)\n",
      "File \u001b[1;32mc:\\users\\lfl\\qiskit-metal\\qiskit_metal\\toolbox_metal\\parsing.py:467\u001b[0m\n\u001b[0;32m    464\u001b[0m LENGTH_UNIT_ASSUMED \u001b[39m=\u001b[39m \u001b[39m'\u001b[39m\u001b[39mmm\u001b[39m\u001b[39m'\u001b[39m\n\u001b[0;32m    466\u001b[0m \u001b[39mtry\u001b[39;00m:\n\u001b[1;32m--> 467\u001b[0m     u_reg \u001b[39m=\u001b[39m UnitRegistry()\n\u001b[0;32m    468\u001b[0m     Q \u001b[39m=\u001b[39m u_reg\u001b[39m.\u001b[39mQuantity\n\u001b[0;32m    469\u001b[0m \u001b[39mexcept\u001b[39;00m (\u001b[39mImportError\u001b[39;00m, \u001b[39mModuleNotFoundError\u001b[39;00m):\n",
      "File \u001b[1;32mc:\\Users\\lfl\\.conda\\envs\\qiskit_metal\\Lib\\site-packages\\pint\\facets\\plain\\registry.py:136\u001b[0m, in \u001b[0;36mRegistryMeta.__call__\u001b[1;34m(self, *args, **kwargs)\u001b[0m\n\u001b[0;32m    134\u001b[0m \u001b[39mdef\u001b[39;00m \u001b[39m__call__\u001b[39m(\u001b[39mself\u001b[39m, \u001b[39m*\u001b[39margs, \u001b[39m*\u001b[39m\u001b[39m*\u001b[39mkwargs):\n\u001b[0;32m    135\u001b[0m     obj \u001b[39m=\u001b[39m \u001b[39msuper\u001b[39m()\u001b[39m.\u001b[39m\u001b[39m__call__\u001b[39m(\u001b[39m*\u001b[39margs, \u001b[39m*\u001b[39m\u001b[39m*\u001b[39mkwargs)\n\u001b[1;32m--> 136\u001b[0m     obj\u001b[39m.\u001b[39;49m_after_init()\n\u001b[0;32m    137\u001b[0m     \u001b[39mreturn\u001b[39;00m obj\n",
      "File \u001b[1;32mc:\\Users\\lfl\\.conda\\envs\\qiskit_metal\\Lib\\site-packages\\pint\\facets\\system\\registry.py:78\u001b[0m, in \u001b[0;36mSystemRegistry._after_init\u001b[1;34m(self)\u001b[0m\n\u001b[0;32m     72\u001b[0m \u001b[39mdef\u001b[39;00m \u001b[39m_after_init\u001b[39m(\u001b[39mself\u001b[39m) \u001b[39m-\u001b[39m\u001b[39m>\u001b[39m \u001b[39mNone\u001b[39;00m:\n\u001b[0;32m     73\u001b[0m \u001b[39m    \u001b[39m\u001b[39m\"\"\"Invoked at the end of ``__init__``.\u001b[39;00m\n\u001b[0;32m     74\u001b[0m \n\u001b[0;32m     75\u001b[0m \u001b[39m    - Create default group and add all orphan units to it\u001b[39;00m\n\u001b[0;32m     76\u001b[0m \u001b[39m    - Set default system\u001b[39;00m\n\u001b[0;32m     77\u001b[0m \u001b[39m    \"\"\"\u001b[39;00m\n\u001b[1;32m---> 78\u001b[0m     \u001b[39msuper\u001b[39;49m()\u001b[39m.\u001b[39;49m_after_init()\n\u001b[0;32m     80\u001b[0m     \u001b[39m#: System name to be used by default.\u001b[39;00m\n\u001b[0;32m     81\u001b[0m     \u001b[39mself\u001b[39m\u001b[39m.\u001b[39m_default_system \u001b[39m=\u001b[39m \u001b[39mself\u001b[39m\u001b[39m.\u001b[39m_default_system \u001b[39mor\u001b[39;00m \u001b[39mself\u001b[39m\u001b[39m.\u001b[39m_defaults\u001b[39m.\u001b[39mget(\n\u001b[0;32m     82\u001b[0m         \u001b[39m\"\u001b[39m\u001b[39msystem\u001b[39m\u001b[39m\"\u001b[39m, \u001b[39mNone\u001b[39;00m\n\u001b[0;32m     83\u001b[0m     )\n",
      "File \u001b[1;32mc:\\Users\\lfl\\.conda\\envs\\qiskit_metal\\Lib\\site-packages\\pint\\facets\\group\\registry.py:61\u001b[0m, in \u001b[0;36mGroupRegistry._after_init\u001b[1;34m(self)\u001b[0m\n\u001b[0;32m     55\u001b[0m \u001b[39mdef\u001b[39;00m \u001b[39m_after_init\u001b[39m(\u001b[39mself\u001b[39m) \u001b[39m-\u001b[39m\u001b[39m>\u001b[39m \u001b[39mNone\u001b[39;00m:\n\u001b[0;32m     56\u001b[0m \u001b[39m    \u001b[39m\u001b[39m\"\"\"Invoked at the end of ``__init__``.\u001b[39;00m\n\u001b[0;32m     57\u001b[0m \n\u001b[0;32m     58\u001b[0m \u001b[39m    - Create default group and add all orphan units to it\u001b[39;00m\n\u001b[0;32m     59\u001b[0m \u001b[39m    - Set default system\u001b[39;00m\n\u001b[0;32m     60\u001b[0m \u001b[39m    \"\"\"\u001b[39;00m\n\u001b[1;32m---> 61\u001b[0m     \u001b[39msuper\u001b[39;49m()\u001b[39m.\u001b[39;49m_after_init()\n\u001b[0;32m     63\u001b[0m     \u001b[39m#: Copy units not defined in any group to the default group\u001b[39;00m\n\u001b[0;32m     64\u001b[0m     \u001b[39mif\u001b[39;00m \u001b[39m\"\u001b[39m\u001b[39mgroup\u001b[39m\u001b[39m\"\u001b[39m \u001b[39min\u001b[39;00m \u001b[39mself\u001b[39m\u001b[39m.\u001b[39m_defaults:\n",
      "File \u001b[1;32mc:\\Users\\lfl\\.conda\\envs\\qiskit_metal\\Lib\\site-packages\\pint\\facets\\plain\\registry.py:297\u001b[0m, in \u001b[0;36mPlainRegistry._after_init\u001b[1;34m(self)\u001b[0m\n\u001b[0;32m    295\u001b[0m \u001b[39mif\u001b[39;00m \u001b[39mself\u001b[39m\u001b[39m.\u001b[39m_filename \u001b[39m==\u001b[39m \u001b[39m\"\u001b[39m\u001b[39m\"\u001b[39m:\n\u001b[0;32m    296\u001b[0m     path \u001b[39m=\u001b[39m pathlib\u001b[39m.\u001b[39mPath(\u001b[39m__file__\u001b[39m)\u001b[39m.\u001b[39mparent\u001b[39m.\u001b[39mparent\u001b[39m.\u001b[39mparent \u001b[39m/\u001b[39m \u001b[39m\"\u001b[39m\u001b[39mdefault_en.txt\u001b[39m\u001b[39m\"\u001b[39m\n\u001b[1;32m--> 297\u001b[0m     loaded_files \u001b[39m=\u001b[39m \u001b[39mself\u001b[39;49m\u001b[39m.\u001b[39;49mload_definitions(path, \u001b[39mTrue\u001b[39;49;00m)\n\u001b[0;32m    298\u001b[0m \u001b[39melif\u001b[39;00m \u001b[39mself\u001b[39m\u001b[39m.\u001b[39m_filename \u001b[39mis\u001b[39;00m \u001b[39mnot\u001b[39;00m \u001b[39mNone\u001b[39;00m:\n\u001b[0;32m    299\u001b[0m     loaded_files \u001b[39m=\u001b[39m \u001b[39mself\u001b[39m\u001b[39m.\u001b[39mload_definitions(\u001b[39mself\u001b[39m\u001b[39m.\u001b[39m_filename)\n",
      "File \u001b[1;32mc:\\Users\\lfl\\.conda\\envs\\qiskit_metal\\Lib\\site-packages\\pint\\facets\\plain\\registry.py:519\u001b[0m, in \u001b[0;36mPlainRegistry.load_definitions\u001b[1;34m(self, file, is_resource)\u001b[0m\n\u001b[0;32m    517\u001b[0m     parsed_project \u001b[39m=\u001b[39m \u001b[39mself\u001b[39m\u001b[39m.\u001b[39m_def_parser\u001b[39m.\u001b[39mparse_string(\u001b[39m\"\u001b[39m\u001b[39m\\n\u001b[39;00m\u001b[39m\"\u001b[39m\u001b[39m.\u001b[39mjoin(file))\n\u001b[0;32m    518\u001b[0m \u001b[39melse\u001b[39;00m:\n\u001b[1;32m--> 519\u001b[0m     parsed_project \u001b[39m=\u001b[39m \u001b[39mself\u001b[39;49m\u001b[39m.\u001b[39;49m_def_parser\u001b[39m.\u001b[39;49mparse_file(file)\n\u001b[0;32m    521\u001b[0m \u001b[39mfor\u001b[39;00m definition \u001b[39min\u001b[39;00m \u001b[39mself\u001b[39m\u001b[39m.\u001b[39m_def_parser\u001b[39m.\u001b[39miter_parsed_project(parsed_project):\n\u001b[0;32m    522\u001b[0m     \u001b[39mself\u001b[39m\u001b[39m.\u001b[39m_helper_dispatch_adder(definition)\n",
      "File \u001b[1;32mc:\\Users\\lfl\\.conda\\envs\\qiskit_metal\\Lib\\site-packages\\pint\\delegates\\txt_defparser\\defparser.py:107\u001b[0m, in \u001b[0;36mDefParser.parse_file\u001b[1;34m(self, filename, cfg)\u001b[0m\n\u001b[0;32m    106\u001b[0m \u001b[39mdef\u001b[39;00m \u001b[39mparse_file\u001b[39m(\u001b[39mself\u001b[39m, filename: pathlib\u001b[39m.\u001b[39mPath, cfg\u001b[39m=\u001b[39m\u001b[39mNone\u001b[39;00m):\n\u001b[1;32m--> 107\u001b[0m     \u001b[39mreturn\u001b[39;00m fp\u001b[39m.\u001b[39;49mparse(\n\u001b[0;32m    108\u001b[0m         filename,\n\u001b[0;32m    109\u001b[0m         _PintParser,\n\u001b[0;32m    110\u001b[0m         cfg \u001b[39mor\u001b[39;49;00m \u001b[39mself\u001b[39;49m\u001b[39m.\u001b[39;49m_default_config,\n\u001b[0;32m    111\u001b[0m         diskcache\u001b[39m=\u001b[39;49m\u001b[39mself\u001b[39;49m\u001b[39m.\u001b[39;49m_diskcache,\n\u001b[0;32m    112\u001b[0m     )\n",
      "File \u001b[1;32mc:\\Users\\lfl\\.conda\\envs\\qiskit_metal\\Lib\\site-packages\\pint\\_vendor\\flexparser.py:1393\u001b[0m, in \u001b[0;36mparse\u001b[1;34m(entry_point, spec, config, strip_spaces, delimiters, locator, prefer_resource_as_file, **extra_parser_kwargs)\u001b[0m\n\u001b[0;32m   1385\u001b[0m \u001b[39melif\u001b[39;00m \u001b[39mnot\u001b[39;00m (\u001b[39misinstance\u001b[39m(entry_point, \u001b[39mtuple\u001b[39m) \u001b[39mand\u001b[39;00m \u001b[39mlen\u001b[39m(entry_point) \u001b[39m==\u001b[39m \u001b[39m2\u001b[39m):\n\u001b[0;32m   1386\u001b[0m     \u001b[39mraise\u001b[39;00m \u001b[39mTypeError\u001b[39;00m(\n\u001b[0;32m   1387\u001b[0m         \u001b[39mf\u001b[39m\u001b[39m\"\u001b[39m\u001b[39mCannot handle type \u001b[39m\u001b[39m{\u001b[39;00m\u001b[39mtype\u001b[39m(entry_point)\u001b[39m}\u001b[39;00m\u001b[39m, \u001b[39m\u001b[39m\"\u001b[39m\n\u001b[0;32m   1388\u001b[0m         \u001b[39m\"\u001b[39m\u001b[39muse str or pathlib.Path for files or \u001b[39m\u001b[39m\"\u001b[39m\n\u001b[0;32m   1389\u001b[0m         \u001b[39m\"\u001b[39m\u001b[39m(package: str, resource_name: str) tuple \u001b[39m\u001b[39m\"\u001b[39m\n\u001b[0;32m   1390\u001b[0m         \u001b[39m\"\u001b[39m\u001b[39mfor a resource.\u001b[39m\u001b[39m\"\u001b[39m\n\u001b[0;32m   1391\u001b[0m     )\n\u001b[1;32m-> 1393\u001b[0m pp[\u001b[39mNone\u001b[39;00m] \u001b[39m=\u001b[39m parsed \u001b[39m=\u001b[39m parser\u001b[39m.\u001b[39;49mparse(entry_point)\n\u001b[0;32m   1394\u001b[0m pending\u001b[39m.\u001b[39mextend(\n\u001b[0;32m   1395\u001b[0m     (parsed\u001b[39m.\u001b[39mlocation, el\u001b[39m.\u001b[39mtarget)\n\u001b[0;32m   1396\u001b[0m     \u001b[39mfor\u001b[39;00m el \u001b[39min\u001b[39;00m parsed\u001b[39m.\u001b[39mparsed_source\u001b[39m.\u001b[39mfilter_by(IncludeStatement)\n\u001b[0;32m   1397\u001b[0m )\n\u001b[0;32m   1399\u001b[0m \u001b[39mwhile\u001b[39;00m pending:\n",
      "File \u001b[1;32mc:\\Users\\lfl\\.conda\\envs\\qiskit_metal\\Lib\\site-packages\\pint\\_vendor\\flexparser.py:1010\u001b[0m, in \u001b[0;36mParser.parse\u001b[1;34m(self, source_location)\u001b[0m\n\u001b[0;32m   1007\u001b[0m     \u001b[39mreturn\u001b[39;00m \u001b[39mself\u001b[39m\u001b[39m.\u001b[39mparse_file(pathlib\u001b[39m.\u001b[39mPath(source_location))\n\u001b[0;32m   1009\u001b[0m \u001b[39mif\u001b[39;00m \u001b[39misinstance\u001b[39m(source_location, pathlib\u001b[39m.\u001b[39mPath):\n\u001b[1;32m-> 1010\u001b[0m     \u001b[39mreturn\u001b[39;00m \u001b[39mself\u001b[39;49m\u001b[39m.\u001b[39;49mparse_file(source_location)\n\u001b[0;32m   1012\u001b[0m \u001b[39mraise\u001b[39;00m \u001b[39mTypeError\u001b[39;00m(\n\u001b[0;32m   1013\u001b[0m     \u001b[39mf\u001b[39m\u001b[39m\"\u001b[39m\u001b[39mUnknown type \u001b[39m\u001b[39m{\u001b[39;00m\u001b[39mtype\u001b[39m(source_location)\u001b[39m}\u001b[39;00m\u001b[39m, \u001b[39m\u001b[39m\"\u001b[39m\n\u001b[0;32m   1014\u001b[0m     \u001b[39m\"\u001b[39m\u001b[39muse str or pathlib.Path for files or \u001b[39m\u001b[39m\"\u001b[39m\n\u001b[0;32m   1015\u001b[0m     \u001b[39m\"\u001b[39m\u001b[39m(package: str, resource_name: str) tuple \u001b[39m\u001b[39m\"\u001b[39m\n\u001b[0;32m   1016\u001b[0m     \u001b[39m\"\u001b[39m\u001b[39mfor a resource.\u001b[39m\u001b[39m\"\u001b[39m\n\u001b[0;32m   1017\u001b[0m )\n",
      "File \u001b[1;32mc:\\Users\\lfl\\.conda\\envs\\qiskit_metal\\Lib\\site-packages\\pint\\delegates\\txt_defparser\\defparser.py:56\u001b[0m, in \u001b[0;36m_PintParser.parse_file\u001b[1;34m(self, path)\u001b[0m\n\u001b[0;32m     54\u001b[0m \u001b[39mdef\u001b[39;00m \u001b[39mparse_file\u001b[39m(\u001b[39mself\u001b[39m, path: pathlib\u001b[39m.\u001b[39mPath) \u001b[39m-\u001b[39m\u001b[39m>\u001b[39m fp\u001b[39m.\u001b[39mParsedSource:\n\u001b[0;32m     55\u001b[0m     \u001b[39mif\u001b[39;00m \u001b[39mself\u001b[39m\u001b[39m.\u001b[39m_diskcache \u001b[39mis\u001b[39;00m \u001b[39mNone\u001b[39;00m:\n\u001b[1;32m---> 56\u001b[0m         \u001b[39mreturn\u001b[39;00m \u001b[39msuper\u001b[39;49m()\u001b[39m.\u001b[39;49mparse_file(path)\n\u001b[0;32m     57\u001b[0m     content, basename \u001b[39m=\u001b[39m \u001b[39mself\u001b[39m\u001b[39m.\u001b[39m_diskcache\u001b[39m.\u001b[39mload(path, \u001b[39msuper\u001b[39m()\u001b[39m.\u001b[39mparse_file)\n\u001b[0;32m     58\u001b[0m     \u001b[39mreturn\u001b[39;00m content\n",
      "File \u001b[1;32mc:\\Users\\lfl\\.conda\\envs\\qiskit_metal\\Lib\\site-packages\\pint\\_vendor\\flexparser.py:1048\u001b[0m, in \u001b[0;36mParser.parse_file\u001b[1;34m(self, path)\u001b[0m\n\u001b[0;32m   1043\u001b[0m     content \u001b[39m=\u001b[39m fi\u001b[39m.\u001b[39mread()\n\u001b[0;32m   1045\u001b[0m bos \u001b[39m=\u001b[39m BOF(\n\u001b[0;32m   1046\u001b[0m     Hash\u001b[39m.\u001b[39mfrom_bytes(\u001b[39mself\u001b[39m\u001b[39m.\u001b[39m_hasher, content), path, path\u001b[39m.\u001b[39mstat()\u001b[39m.\u001b[39mst_mtime\n\u001b[0;32m   1047\u001b[0m )\u001b[39m.\u001b[39mset_simple_position(\u001b[39m0\u001b[39m, \u001b[39m0\u001b[39m, \u001b[39m0\u001b[39m)\n\u001b[1;32m-> 1048\u001b[0m \u001b[39mreturn\u001b[39;00m \u001b[39mself\u001b[39;49m\u001b[39m.\u001b[39;49mparse_bytes(content, bos)\n",
      "File \u001b[1;32mc:\\Users\\lfl\\.conda\\envs\\qiskit_metal\\Lib\\site-packages\\pint\\_vendor\\flexparser.py:1027\u001b[0m, in \u001b[0;36mParser.parse_bytes\u001b[1;34m(self, b, bos)\u001b[0m\n\u001b[0;32m   1021\u001b[0m     bos \u001b[39m=\u001b[39m BOS(Hash\u001b[39m.\u001b[39mfrom_bytes(\u001b[39mself\u001b[39m\u001b[39m.\u001b[39m_hasher, b))\u001b[39m.\u001b[39mset_simple_position(\u001b[39m0\u001b[39m, \u001b[39m0\u001b[39m, \u001b[39m0\u001b[39m)\n\u001b[0;32m   1023\u001b[0m sic \u001b[39m=\u001b[39m \u001b[39mself\u001b[39m\u001b[39m.\u001b[39m_statement_iterator_class(\n\u001b[0;32m   1024\u001b[0m     b\u001b[39m.\u001b[39mdecode(\u001b[39mself\u001b[39m\u001b[39m.\u001b[39m_encoding), \u001b[39mself\u001b[39m\u001b[39m.\u001b[39m_delimiters, \u001b[39mself\u001b[39m\u001b[39m.\u001b[39m_strip_spaces\n\u001b[0;32m   1025\u001b[0m )\n\u001b[1;32m-> 1027\u001b[0m parsed \u001b[39m=\u001b[39m \u001b[39mself\u001b[39;49m\u001b[39m.\u001b[39;49m_root_block_class\u001b[39m.\u001b[39;49mconsume_body_closing(bos, sic, \u001b[39mself\u001b[39;49m\u001b[39m.\u001b[39;49m_config)\n\u001b[0;32m   1029\u001b[0m \u001b[39mreturn\u001b[39;00m ParsedSource(\n\u001b[0;32m   1030\u001b[0m     parsed,\n\u001b[0;32m   1031\u001b[0m     \u001b[39mself\u001b[39m\u001b[39m.\u001b[39m_config,\n\u001b[0;32m   1032\u001b[0m )\n",
      "File \u001b[1;32mc:\\Users\\lfl\\.conda\\envs\\qiskit_metal\\Lib\\site-packages\\pint\\_vendor\\flexparser.py:792\u001b[0m, in \u001b[0;36mBlock.consume_body_closing\u001b[1;34m(cls, opening, statement_iterator, config)\u001b[0m\n\u001b[0;32m    790\u001b[0m \u001b[39mif\u001b[39;00m closing \u001b[39mis\u001b[39;00m \u001b[39mnot\u001b[39;00m \u001b[39mNone\u001b[39;00m:\n\u001b[0;32m    791\u001b[0m     \u001b[39mcontinue\u001b[39;00m\n\u001b[1;32m--> 792\u001b[0m el \u001b[39m=\u001b[39m \u001b[39mcls\u001b[39;49m\u001b[39m.\u001b[39;49mconsume_body(statement_iterator, config)\n\u001b[0;32m    793\u001b[0m body\u001b[39m.\u001b[39mappend(el)\n\u001b[0;32m    794\u001b[0m last_line \u001b[39m=\u001b[39m el\u001b[39m.\u001b[39mend_line\n",
      "File \u001b[1;32mc:\\Users\\lfl\\.conda\\envs\\qiskit_metal\\Lib\\site-packages\\pint\\_vendor\\flexparser.py:760\u001b[0m, in \u001b[0;36mBlock.consume_body\u001b[1;34m(cls, statement_iterator, config)\u001b[0m\n\u001b[0;32m    755\u001b[0m \u001b[39m\u001b[39m\u001b[39m\"\"\"Peek into the iterator and try to parse with any of the body classes.\u001b[39;00m\n\u001b[0;32m    756\u001b[0m \n\u001b[0;32m    757\u001b[0m \u001b[39mIf the statement cannot be parsed, a UnknownStatement is returned.\u001b[39;00m\n\u001b[0;32m    758\u001b[0m \u001b[39m\"\"\"\u001b[39;00m\n\u001b[0;32m    759\u001b[0m \u001b[39mfor\u001b[39;00m c \u001b[39min\u001b[39;00m \u001b[39mcls\u001b[39m\u001b[39m.\u001b[39mbody_classes:\n\u001b[1;32m--> 760\u001b[0m     el \u001b[39m=\u001b[39m c\u001b[39m.\u001b[39;49mconsume(statement_iterator, config)\n\u001b[0;32m    761\u001b[0m     \u001b[39mif\u001b[39;00m el \u001b[39mis\u001b[39;00m \u001b[39mnot\u001b[39;00m \u001b[39mNone\u001b[39;00m:\n\u001b[0;32m    762\u001b[0m         \u001b[39mreturn\u001b[39;00m el\n",
      "File \u001b[1;32mc:\\Users\\lfl\\.conda\\envs\\qiskit_metal\\Lib\\site-packages\\pint\\_vendor\\flexparser.py:815\u001b[0m, in \u001b[0;36mBlock.consume\u001b[1;34m(cls, statement_iterator, config)\u001b[0m\n\u001b[0;32m    812\u001b[0m \u001b[39mif\u001b[39;00m opening \u001b[39mis\u001b[39;00m \u001b[39mNone\u001b[39;00m:\n\u001b[0;32m    813\u001b[0m     \u001b[39mreturn\u001b[39;00m \u001b[39mNone\u001b[39;00m\n\u001b[1;32m--> 815\u001b[0m \u001b[39mreturn\u001b[39;00m \u001b[39mcls\u001b[39;49m\u001b[39m.\u001b[39;49mconsume_body_closing(opening, statement_iterator, config)\n",
      "File \u001b[1;32mc:\\Users\\lfl\\.conda\\envs\\qiskit_metal\\Lib\\site-packages\\pint\\_vendor\\flexparser.py:792\u001b[0m, in \u001b[0;36mBlock.consume_body_closing\u001b[1;34m(cls, opening, statement_iterator, config)\u001b[0m\n\u001b[0;32m    790\u001b[0m \u001b[39mif\u001b[39;00m closing \u001b[39mis\u001b[39;00m \u001b[39mnot\u001b[39;00m \u001b[39mNone\u001b[39;00m:\n\u001b[0;32m    791\u001b[0m     \u001b[39mcontinue\u001b[39;00m\n\u001b[1;32m--> 792\u001b[0m el \u001b[39m=\u001b[39m \u001b[39mcls\u001b[39;49m\u001b[39m.\u001b[39;49mconsume_body(statement_iterator, config)\n\u001b[0;32m    793\u001b[0m body\u001b[39m.\u001b[39mappend(el)\n\u001b[0;32m    794\u001b[0m last_line \u001b[39m=\u001b[39m el\u001b[39m.\u001b[39mend_line\n",
      "File \u001b[1;32mc:\\Users\\lfl\\.conda\\envs\\qiskit_metal\\Lib\\site-packages\\pint\\_vendor\\flexparser.py:759\u001b[0m, in \u001b[0;36mBlock.consume_body\u001b[1;34m(cls, statement_iterator, config)\u001b[0m\n\u001b[0;32m    751\u001b[0m \u001b[39m@classmethod\u001b[39m\n\u001b[0;32m    752\u001b[0m \u001b[39mdef\u001b[39;00m \u001b[39mconsume_body\u001b[39m(\n\u001b[0;32m    753\u001b[0m     \u001b[39mcls\u001b[39m, statement_iterator: StatementIterator, config: CT\n\u001b[0;32m    754\u001b[0m ) \u001b[39m-\u001b[39m\u001b[39m>\u001b[39m Consume[IPST]:\n\u001b[0;32m    755\u001b[0m \u001b[39m    \u001b[39m\u001b[39m\"\"\"Peek into the iterator and try to parse with any of the body classes.\u001b[39;00m\n\u001b[0;32m    756\u001b[0m \n\u001b[0;32m    757\u001b[0m \u001b[39m    If the statement cannot be parsed, a UnknownStatement is returned.\u001b[39;00m\n\u001b[0;32m    758\u001b[0m \u001b[39m    \"\"\"\u001b[39;00m\n\u001b[1;32m--> 759\u001b[0m     \u001b[39mfor\u001b[39;00m c \u001b[39min\u001b[39;00m \u001b[39mcls\u001b[39m\u001b[39m.\u001b[39mbody_classes:\n\u001b[0;32m    760\u001b[0m         el \u001b[39m=\u001b[39m c\u001b[39m.\u001b[39mconsume(statement_iterator, config)\n\u001b[0;32m    761\u001b[0m         \u001b[39mif\u001b[39;00m el \u001b[39mis\u001b[39;00m \u001b[39mnot\u001b[39;00m \u001b[39mNone\u001b[39;00m:\n",
      "File \u001b[1;32mc:\\Users\\lfl\\.conda\\envs\\qiskit_metal\\Lib\\site-packages\\pint\\_vendor\\flexparser.py:724\u001b[0m, in \u001b[0;36mBlock.body_classes\u001b[1;34m(cls)\u001b[0m\n\u001b[0;32m    721\u001b[0m \u001b[39m@classproperty\u001b[39m\n\u001b[0;32m    722\u001b[0m \u001b[39mdef\u001b[39;00m \u001b[39mbody_classes\u001b[39m(\u001b[39mcls\u001b[39m) \u001b[39m-\u001b[39m\u001b[39m>\u001b[39m Iterator[Type[IPST]]:\n\u001b[0;32m    723\u001b[0m \u001b[39m    \u001b[39m\u001b[39m\"\"\"Classes representing any of the parsed statement that can be in the body.\"\"\"\u001b[39;00m\n\u001b[1;32m--> 724\u001b[0m     body \u001b[39m=\u001b[39m ty\u001b[39m.\u001b[39;49mget_type_hints(\u001b[39mcls\u001b[39;49m)[\u001b[39m\"\u001b[39m\u001b[39mbody\u001b[39m\u001b[39m\"\u001b[39m]\n\u001b[0;32m    725\u001b[0m     \u001b[39myield from\u001b[39;00m _yield_types(body, (ParsedStatement, Block))\n",
      "File \u001b[1;32mc:\\Users\\lfl\\.conda\\envs\\qiskit_metal\\Lib\\typing.py:2335\u001b[0m, in \u001b[0;36mget_type_hints\u001b[1;34m(obj, globalns, localns, include_extras)\u001b[0m\n\u001b[0;32m   2333\u001b[0m     value \u001b[39m=\u001b[39m \u001b[39mtype\u001b[39m(\u001b[39mNone\u001b[39;00m)\n\u001b[0;32m   2334\u001b[0m \u001b[39mif\u001b[39;00m \u001b[39misinstance\u001b[39m(value, \u001b[39mstr\u001b[39m):\n\u001b[1;32m-> 2335\u001b[0m     value \u001b[39m=\u001b[39m ForwardRef(value, is_argument\u001b[39m=\u001b[39;49m\u001b[39mFalse\u001b[39;49;00m, is_class\u001b[39m=\u001b[39;49m\u001b[39mTrue\u001b[39;49;00m)\n\u001b[0;32m   2336\u001b[0m value \u001b[39m=\u001b[39m _eval_type(value, base_globals, base_locals)\n\u001b[0;32m   2337\u001b[0m hints[name] \u001b[39m=\u001b[39m value\n",
      "\u001b[1;31mKeyboardInterrupt\u001b[0m: "
     ]
    }
   ],
   "source": [
    "from inductive_coupler import InductiveCoupler\n",
    "\n",
    "options = dict(\n",
    "    prime_width='10um',\n",
    "    prime_gap='6um',\n",
    "    second_width='10um',\n",
    "    second_gap='6um',\n",
    "    coupling_space='3um',\n",
    "    coupling_length='100um',\n",
    "    down_length='50um',\n",
    "    fillet='25um',\n",
    "    mirror=False,\n",
    "    pos_x = '500um',\n",
    "    pos_y = '500um'\n",
    ")\n",
    "\n",
    "icoupler = InductiveCoupler(design, 'i_coupler', options = options)"
   ]
  },
  {
   "cell_type": "code",
   "execution_count": 2,
   "metadata": {},
   "outputs": [],
   "source": [
    "from qiskit_metal.qlibrary.terminations.open_to_ground import OpenToGround\n",
    "\n",
    "otg_options = dict(width = '10um', \n",
    "                   gap = '6um', \n",
    "                #    termination_gap = '500um',\n",
    "                   pos_x='-1000um',  \n",
    "                   pos_y='-1000um', \n",
    "                   orientation='-90')\n",
    "\n",
    "otg = OpenToGround(design, 'otg1', options=otg_options)\n",
    "\n",
    "otg_options = dict(width = '10um', \n",
    "                   gap = '6um', \n",
    "                #    termination_gap = '500um',\n",
    "                   pos_x='1000um',  \n",
    "                   pos_y='-1000um', \n",
    "                   orientation='-90')\n",
    "\n",
    "otg = OpenToGround(design, 'otg2', options=otg_options)\n",
    "\n",
    "from qiskit_metal.qlibrary.tlines.meandered import RouteMeander"
   ]
  },
  {
   "cell_type": "code",
   "execution_count": 4,
   "metadata": {},
   "outputs": [
    {
     "data": {
      "text/plain": [
       "{'pin_inputs': {'start_pin': {'component': 'otg1', 'pin': 'open'},\n",
       "  'end_pin': {'component': 'otg2', 'pin': 'open'}},\n",
       " 'fillet': '50um',\n",
       " 'total_length': '9000um'}"
      ]
     },
     "execution_count": 4,
     "metadata": {},
     "output_type": "execute_result"
    }
   ],
   "source": [
    "cpw_opts = Dict(\n",
    "   pin_inputs = Dict(\n",
    "      start_pin = Dict(\n",
    "         component = 'otg1',\n",
    "         pin = 'open'\n",
    "      ),\n",
    "      end_pin = Dict(\n",
    "         component = 'otg2',\n",
    "         pin = 'open'\n",
    "      )\n",
    "   ),\n",
    "   fillet = '50um',\n",
    "   total_length = '9000um'\n",
    ")\n",
    "\n",
    "# cpw_test = RouteMeander(design, 'cpw_test', options = cpw_opts)\n",
    "cpw_opts"
   ]
  },
  {
   "cell_type": "code",
   "execution_count": 2,
   "metadata": {},
   "outputs": [
    {
     "name": "stdout",
     "output_type": "stream",
     "text": [
      "KKK\n",
      "meander\n",
      "VVV\n",
      "<class 'qiskit_metal.qlibrary.core._parsed_dynamic_attrs.ParsedDynamicAttributes_Component'>\n",
      "FOUND FOUND\n",
      "{'spacing': '200um', 'asymmetry': '0um'}\n",
      "KKK\n",
      "spacing\n",
      "VVV\n",
      "<class 'float'>\n",
      "KKK\n",
      "asymmetry\n",
      "VVV\n",
      "<class 'float'>\n",
      "KKK\n",
      "snap\n",
      "VVV\n",
      "<class 'str'>\n",
      "KKK\n",
      "prevent_short_edges\n",
      "VVV\n",
      "<class 'str'>\n",
      "@@@@@@@@@@@@@@@@@@@@@@@@@@@@@@@@@@@@@@@@@@@\n",
      "{'meander': {'spacing': 0.2, 'asymmetry': 0.0}, 'snap': 'true', 'prevent_short_edges': 'true'}\n"
     ]
    }
   ],
   "source": [
    "from cavity_feedline import CavityFeedline\n",
    "\n",
    "cavity_opts = Dict(\n",
    "    coupling_type = 'capacitive',\n",
    "    coupler_options = Dict(\n",
    "        prime_width='10um'\n",
    "    ),\n",
    "    cpw_options = dict(\n",
    "        total_length = '3000um',\n",
    "        pin_inputs = dict(\n",
    "            start_pin = dict(\n",
    "                component = 'otg2',\n",
    "                pin = 'open'\n",
    "            ),\n",
    "            end_pin = dict(\n",
    "                component = 'otg1',\n",
    "                pin = 'open'\n",
    "            )\n",
    "        ),\n",
    "        # left_fillet = '49.9um',\n",
    "        # right_fillet = '100um',\n",
    "        # left_lead = dict(start_straight = '100um')\n",
    "        left_options = Dict(\n",
    "            fillet = '49.9um'\n",
    "        )\n",
    "    )\n",
    ")\n",
    "\n",
    "# print(type(cavity_opts))\n",
    "# print(isinstance(cavity_opts, dict))\n",
    "cavity=CavityFeedline(design, 'cavity', options=cavity_opts)"
   ]
  },
  {
   "cell_type": "code",
   "execution_count": 3,
   "metadata": {},
   "outputs": [
    {
     "name": "stderr",
     "output_type": "stream",
     "text": [
      "12:25AM 46s ERROR [__getitem__]: \n",
      "Warning: User tried to access a variable in the parse options that is not there!\n",
      " Component name = `cavity`\n",
      " Option name    = `cpw_options.left_options.keys`\n",
      "12:25AM 46s ERROR [__getitem__]: \n",
      "Warning: User tried to access a variable in the parse options that is not there!\n",
      " Component name = `cavity`\n",
      " Option name    = `cpw_options.left_options.keys`\n",
      "12:25AM 46s ERROR [rebuild]: ERROR in building component name=cavity, error='NoneType' object is not callable\n"
     ]
    },
    {
     "name": "stdout",
     "output_type": "stream",
     "text": [
      "TTYYPPEE\n"
     ]
    },
    {
     "ename": "TypeError",
     "evalue": "'NoneType' object is not callable",
     "output_type": "error",
     "traceback": [
      "\u001b[1;31m---------------------------------------------------------------------------\u001b[0m",
      "\u001b[1;31mTypeError\u001b[0m                                 Traceback (most recent call last)",
      "Cell \u001b[1;32mIn[3], line 1\u001b[0m\n\u001b[1;32m----> 1\u001b[0m gui\u001b[39m.\u001b[39;49mrebuild()\n\u001b[0;32m      2\u001b[0m gui\u001b[39m.\u001b[39mautoscale()\n\u001b[0;32m      3\u001b[0m \u001b[39m# gui.zoom_on_components(['cavity'])\u001b[39;00m\n\u001b[0;32m      4\u001b[0m \u001b[39m# gui.screenshot()\u001b[39;00m\n",
      "File \u001b[1;32mc:\\users\\lfl\\qiskit-metal\\qiskit_metal\\_gui\\main_window.py:793\u001b[0m, in \u001b[0;36mMetalGUI.rebuild\u001b[1;34m(self, autoscale)\u001b[0m\n\u001b[0;32m    788\u001b[0m \u001b[39mdef\u001b[39;00m \u001b[39mrebuild\u001b[39m(\u001b[39mself\u001b[39m, autoscale: \u001b[39mbool\u001b[39m \u001b[39m=\u001b[39m \u001b[39mFalse\u001b[39;00m):\n\u001b[0;32m    789\u001b[0m \u001b[39m    \u001b[39m\u001b[39m\"\"\"\u001b[39;00m\n\u001b[0;32m    790\u001b[0m \u001b[39m    Rebuild all components in the design from scratch and refresh the gui.\u001b[39;00m\n\u001b[0;32m    791\u001b[0m \u001b[39m    \"\"\"\u001b[39;00m\n\u001b[1;32m--> 793\u001b[0m     \u001b[39mself\u001b[39;49m\u001b[39m.\u001b[39;49mdesign\u001b[39m.\u001b[39;49mrebuild()\n\u001b[0;32m    794\u001b[0m     \u001b[39mself\u001b[39m\u001b[39m.\u001b[39mrefresh()\n\u001b[0;32m    795\u001b[0m     \u001b[39mif\u001b[39;00m autoscale:\n",
      "File \u001b[1;32mc:\\users\\lfl\\qiskit-metal\\qiskit_metal\\designs\\design_base.py:469\u001b[0m, in \u001b[0;36mQDesign.rebuild\u001b[1;34m(self)\u001b[0m\n\u001b[0;32m    467\u001b[0m \u001b[39m\u001b[39m\u001b[39m\"\"\"Remakes all components with their current parameters.\"\"\"\u001b[39;00m\n\u001b[0;32m    468\u001b[0m \u001b[39mfor\u001b[39;00m _, obj \u001b[39min\u001b[39;00m \u001b[39mself\u001b[39m\u001b[39m.\u001b[39m_components\u001b[39m.\u001b[39mitems():  \u001b[39m# pylint: disable=unused-variable\u001b[39;00m\n\u001b[1;32m--> 469\u001b[0m     obj\u001b[39m.\u001b[39;49mrebuild()\n",
      "File \u001b[1;32mc:\\users\\lfl\\qiskit-metal\\qiskit_metal\\qlibrary\\core\\base.py:724\u001b[0m, in \u001b[0;36mQComponent.rebuild\u001b[1;34m(self)\u001b[0m\n\u001b[0;32m    719\u001b[0m \u001b[39mself\u001b[39m\u001b[39m.\u001b[39mlogger\u001b[39m.\u001b[39merror(\n\u001b[0;32m    720\u001b[0m     \u001b[39mf\u001b[39m\u001b[39m'\u001b[39m\u001b[39mERROR in building component name=\u001b[39m\u001b[39m{\u001b[39;00m\u001b[39mself\u001b[39m\u001b[39m.\u001b[39mname\u001b[39m}\u001b[39;00m\u001b[39m, error=\u001b[39m\u001b[39m{\u001b[39;00merror\u001b[39m}\u001b[39;00m\u001b[39m'\u001b[39m)\n\u001b[0;32m    721\u001b[0m \u001b[39mself\u001b[39m\u001b[39m.\u001b[39mdesign\u001b[39m.\u001b[39mbuild_logs\u001b[39m.\u001b[39madd_error(\n\u001b[0;32m    722\u001b[0m     \u001b[39mf\u001b[39m\u001b[39m\"\u001b[39m\u001b[39m{\u001b[39;00m\u001b[39mstr\u001b[39m(datetime\u001b[39m.\u001b[39mnow())\u001b[39m}\u001b[39;00m\u001b[39m -- Component: \u001b[39m\u001b[39m{\u001b[39;00m\u001b[39mself\u001b[39m\u001b[39m.\u001b[39mname\u001b[39m}\u001b[39;00m\u001b[39m failed with error\u001b[39m\u001b[39m\\n\u001b[39;00m\u001b[39m: \u001b[39m\u001b[39m{\u001b[39;00merror\u001b[39m}\u001b[39;00m\u001b[39m\"\u001b[39m\n\u001b[0;32m    723\u001b[0m )\n\u001b[1;32m--> 724\u001b[0m \u001b[39mraise\u001b[39;00m error\n",
      "File \u001b[1;32mc:\\users\\lfl\\qiskit-metal\\qiskit_metal\\qlibrary\\core\\base.py:710\u001b[0m, in \u001b[0;36mQComponent.rebuild\u001b[1;34m(self)\u001b[0m\n\u001b[0;32m    707\u001b[0m     \u001b[39m# pylint: disable=protected-access\u001b[39;00m\n\u001b[0;32m    708\u001b[0m     \u001b[39mself\u001b[39m\u001b[39m.\u001b[39mdesign\u001b[39m.\u001b[39m_delete_all_pins_for_component(\u001b[39mself\u001b[39m\u001b[39m.\u001b[39mid)\n\u001b[1;32m--> 710\u001b[0m \u001b[39mself\u001b[39;49m\u001b[39m.\u001b[39;49mmake()\n\u001b[0;32m    711\u001b[0m \u001b[39mself\u001b[39m\u001b[39m.\u001b[39m_made \u001b[39m=\u001b[39m \u001b[39mTrue\u001b[39;00m\n\u001b[0;32m    712\u001b[0m \u001b[39mself\u001b[39m\u001b[39m.\u001b[39mstatus \u001b[39m=\u001b[39m \u001b[39m'\u001b[39m\u001b[39mgood\u001b[39m\u001b[39m'\u001b[39m\n",
      "File \u001b[1;32md:\\andre\\SQuADDS_diss\\cavity_feedline.py:87\u001b[0m, in \u001b[0;36mCavityFeedline.make\u001b[1;34m(self)\u001b[0m\n\u001b[0;32m     84\u001b[0m \u001b[39mself\u001b[39m\u001b[39m.\u001b[39mmake_coupler()\n\u001b[0;32m     86\u001b[0m \u001b[39m# self.make_pin(self, p.wavelength)\u001b[39;00m\n\u001b[1;32m---> 87\u001b[0m \u001b[39mself\u001b[39;49m\u001b[39m.\u001b[39;49mmake_cpws()\n",
      "File \u001b[1;32md:\\andre\\SQuADDS_diss\\cavity_feedline.py:131\u001b[0m, in \u001b[0;36mCavityFeedline.make_cpws\u001b[1;34m(self)\u001b[0m\n\u001b[0;32m    114\u001b[0m \u001b[39m# left_opts.update({'total_length': (p.cpw_options.total_length if p.coupling_type == 'capacitive' else p.cpw_options.total_length/2) })\u001b[39;00m\n\u001b[0;32m    115\u001b[0m \u001b[39m# left_opts.update({'pin_inputs':dict(\u001b[39;00m\n\u001b[0;32m    116\u001b[0m \u001b[39m#                                     start_pin = dict(\u001b[39;00m\n\u001b[1;32m   (...)\u001b[0m\n\u001b[0;32m    128\u001b[0m \u001b[39m# left_opts['pin_inputs']['end_pin'].update({'component':self.coupler.name})\u001b[39;00m\n\u001b[0;32m    129\u001b[0m \u001b[39m# left_opts['pin_inputs']['end_pin'].update({'pin':'prime_end'})\u001b[39;00m\n\u001b[0;32m    130\u001b[0m \u001b[39mprint\u001b[39m(\u001b[39m\"\u001b[39m\u001b[39mTTYYPPEE\u001b[39m\u001b[39m\"\u001b[39m)\n\u001b[1;32m--> 131\u001b[0m \u001b[39mprint\u001b[39m(\u001b[39mtype\u001b[39m(\u001b[39mdict\u001b[39;49m(p\u001b[39m.\u001b[39;49mcpw_options\u001b[39m.\u001b[39;49mleft_options)))\n\u001b[0;32m    133\u001b[0m \u001b[39mself\u001b[39m\u001b[39m.\u001b[39mcopier(left_opts, p\u001b[39m.\u001b[39mcpw_options\u001b[39m.\u001b[39mleft_options)\n\u001b[0;32m    134\u001b[0m \u001b[39m# left_opts = dict(p.cpw_options.left_options)\u001b[39;00m\n\u001b[0;32m    135\u001b[0m \n\u001b[0;32m    136\u001b[0m \n\u001b[1;32m   (...)\u001b[0m\n\u001b[0;32m    146\u001b[0m \u001b[39m# left_opts['pin_inputs']['end_pin'].update({'component':self.coupler.name})\u001b[39;00m\n\u001b[0;32m    147\u001b[0m \u001b[39m# left_opts['pin_inputs']['end_pin'].update({'pin':'second_end'})\u001b[39;00m\n",
      "\u001b[1;31mTypeError\u001b[0m: 'NoneType' object is not callable"
     ]
    }
   ],
   "source": [
    "gui.rebuild()\n",
    "gui.autoscale()\n",
    "# gui.zoom_on_components(['cavity'])\n",
    "# gui.screenshot()"
   ]
  },
  {
   "cell_type": "code",
   "execution_count": 5,
   "metadata": {},
   "outputs": [
    {
     "name": "stdout",
     "output_type": "stream",
     "text": [
      "{'abc': '123', 'efg': {'hij': '456'}}\n"
     ]
    }
   ],
   "source": [
    "from cavity_feedline import CavityFeedline\n",
    "opts = CavityFeedline.default_options.coupler_options\n",
    "\n",
    "temp = Dict(abc='123',\n",
    "            efg=Dict(\n",
    "                hij='456'\n",
    "            ))\n",
    "\n",
    "test = Dict()\n",
    "\n",
    "for k in temp:\n",
    "    test.update({k:temp[k]})\n",
    "\n",
    "print(temp)"
   ]
  },
  {
   "cell_type": "code",
   "execution_count": 6,
   "metadata": {},
   "outputs": [
    {
     "ename": "IndentationError",
     "evalue": "expected an indented block after 'for' statement on line 4 (663240828.py, line 6)",
     "output_type": "error",
     "traceback": [
      "\u001b[1;36m  Cell \u001b[1;32mIn[6], line 6\u001b[1;36m\u001b[0m\n\u001b[1;33m    print(test)\u001b[0m\n\u001b[1;37m    ^\u001b[0m\n\u001b[1;31mIndentationError\u001b[0m\u001b[1;31m:\u001b[0m expected an indented block after 'for' statement on line 4\n"
     ]
    }
   ],
   "source": [
    "test = Dict()\n",
    "# test.update({\"abc\":\"123\"})\n",
    "\n",
    "for k in CavityFeedline.default_options.coupler_options:\n",
    "\n",
    "print(test)"
   ]
  }
 ],
 "metadata": {
  "kernelspec": {
   "display_name": "qiskit_metal",
   "language": "python",
   "name": "qiskit_metal"
  },
  "language_info": {
   "codemirror_mode": {
    "name": "ipython",
    "version": 3
   },
   "file_extension": ".py",
   "mimetype": "text/x-python",
   "name": "python",
   "nbconvert_exporter": "python",
   "pygments_lexer": "ipython3",
   "version": "3.11.4"
  },
  "orig_nbformat": 4
 },
 "nbformat": 4,
 "nbformat_minor": 2
}
