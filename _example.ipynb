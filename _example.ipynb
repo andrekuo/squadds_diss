{
 "cells": [
  {
   "cell_type": "code",
   "execution_count": 1,
   "metadata": {},
   "outputs": [],
   "source": [
    "from qiskit_metal import draw, Dict, designs, MetalGUI\n",
    "from qiskit_metal.designs.design_multiplanar import MultiPlanar\n",
    "from qiskit_metal.toolbox_metal import math_and_overrides\n",
    "from qiskit_metal.qlibrary.core import QComponent\n",
    "import qiskit_metal as metal\n",
    "# ?metal.qlibrary.core.QComponent.add_qgeometry\n",
    "\n",
    "design = MultiPlanar()\n",
    "gui = metal.MetalGUI(design)\n",
    "design.overwrite_enabled = True"
   ]
  },
  {
   "cell_type": "code",
   "execution_count": 27,
   "metadata": {},
   "outputs": [],
   "source": [
    "from inductive_coupler import InductiveCoupler\n",
    "\n",
    "options = dict(\n",
    "    prime_width='10um',\n",
    "    prime_gap='6um',\n",
    "    second_width='10um',\n",
    "    second_gap='6um',\n",
    "    coupling_space='3um',\n",
    "    coupling_length='100um',\n",
    "    down_length='50um',\n",
    "    fillet='25um',\n",
    "    mirror=False,\n",
    ")\n",
    "\n",
    "icoupler = InductiveCoupler(design, 'i_coupler', options = options)"
   ]
  },
  {
   "cell_type": "code",
   "execution_count": 2,
   "metadata": {},
   "outputs": [
    {
     "name": "stderr",
     "output_type": "stream",
     "text": [
      "05:17PM 14s ERROR [rebuild]: ERROR in building component name=cavity, error=CavityFeedline.make_coupler() takes 2 positional arguments but 3 were given\n"
     ]
    },
    {
     "name": "stdout",
     "output_type": "stream",
     "text": [
      "############################\n",
      "{'coupling_type': 'capacitive', 'coupling_length': '100um', 'coupling_space': '3um'}\n"
     ]
    },
    {
     "ename": "TypeError",
     "evalue": "CavityFeedline.make_coupler() takes 2 positional arguments but 3 were given",
     "output_type": "error",
     "traceback": [
      "\u001b[1;31m---------------------------------------------------------------------------\u001b[0m",
      "\u001b[1;31mTypeError\u001b[0m                                 Traceback (most recent call last)",
      "Cell \u001b[1;32mIn[2], line 41\u001b[0m\n\u001b[0;32m      3\u001b[0m \u001b[39m# otg1_options = dict(width = '5.85um', \u001b[39;00m\n\u001b[0;32m      4\u001b[0m \u001b[39m#                    gap = '5.1um', \u001b[39;00m\n\u001b[0;32m      5\u001b[0m \u001b[39m#                 #    termination_gap = '500um',\u001b[39;00m\n\u001b[1;32m   (...)\u001b[0m\n\u001b[0;32m      9\u001b[0m \n\u001b[0;32m     10\u001b[0m \u001b[39m# otg1 = OpenToGround(design, 'otg1', options=otg1_options)\u001b[39;00m\n\u001b[0;32m     13\u001b[0m options \u001b[39m=\u001b[39m \u001b[39mdict\u001b[39m(\n\u001b[0;32m     14\u001b[0m     total_length \u001b[39m=\u001b[39m \u001b[39m'\u001b[39m\u001b[39m3000um\u001b[39m\u001b[39m'\u001b[39m,\n\u001b[0;32m     15\u001b[0m     fillet \u001b[39m=\u001b[39m \u001b[39m'\u001b[39m\u001b[39m50um\u001b[39m\u001b[39m'\u001b[39m,\n\u001b[1;32m   (...)\u001b[0m\n\u001b[0;32m     38\u001b[0m     \u001b[39m# )\u001b[39;00m\n\u001b[0;32m     39\u001b[0m )\n\u001b[1;32m---> 41\u001b[0m CavityFeedline(design, \u001b[39m'\u001b[39;49m\u001b[39mcavity\u001b[39;49m\u001b[39m'\u001b[39;49m, options\u001b[39m=\u001b[39;49moptions)\n",
      "File \u001b[1;32mc:\\users\\lfl\\qiskit-metal\\qiskit_metal\\qlibrary\\core\\base.py:262\u001b[0m, in \u001b[0;36mQComponent.__init__\u001b[1;34m(self, design, name, options, make, component_template)\u001b[0m\n\u001b[0;32m    260\u001b[0m \u001b[39m# Make the component geometry\u001b[39;00m\n\u001b[0;32m    261\u001b[0m \u001b[39mif\u001b[39;00m make:\n\u001b[1;32m--> 262\u001b[0m     \u001b[39mself\u001b[39;49m\u001b[39m.\u001b[39;49mrebuild()\n",
      "File \u001b[1;32mc:\\users\\lfl\\qiskit-metal\\qiskit_metal\\qlibrary\\core\\base.py:724\u001b[0m, in \u001b[0;36mQComponent.rebuild\u001b[1;34m(self)\u001b[0m\n\u001b[0;32m    719\u001b[0m \u001b[39mself\u001b[39m\u001b[39m.\u001b[39mlogger\u001b[39m.\u001b[39merror(\n\u001b[0;32m    720\u001b[0m     \u001b[39mf\u001b[39m\u001b[39m'\u001b[39m\u001b[39mERROR in building component name=\u001b[39m\u001b[39m{\u001b[39;00m\u001b[39mself\u001b[39m\u001b[39m.\u001b[39mname\u001b[39m}\u001b[39;00m\u001b[39m, error=\u001b[39m\u001b[39m{\u001b[39;00merror\u001b[39m}\u001b[39;00m\u001b[39m'\u001b[39m)\n\u001b[0;32m    721\u001b[0m \u001b[39mself\u001b[39m\u001b[39m.\u001b[39mdesign\u001b[39m.\u001b[39mbuild_logs\u001b[39m.\u001b[39madd_error(\n\u001b[0;32m    722\u001b[0m     \u001b[39mf\u001b[39m\u001b[39m\"\u001b[39m\u001b[39m{\u001b[39;00m\u001b[39mstr\u001b[39m(datetime\u001b[39m.\u001b[39mnow())\u001b[39m}\u001b[39;00m\u001b[39m -- Component: \u001b[39m\u001b[39m{\u001b[39;00m\u001b[39mself\u001b[39m\u001b[39m.\u001b[39mname\u001b[39m}\u001b[39;00m\u001b[39m failed with error\u001b[39m\u001b[39m\\n\u001b[39;00m\u001b[39m: \u001b[39m\u001b[39m{\u001b[39;00merror\u001b[39m}\u001b[39;00m\u001b[39m\"\u001b[39m\n\u001b[0;32m    723\u001b[0m )\n\u001b[1;32m--> 724\u001b[0m \u001b[39mraise\u001b[39;00m error\n",
      "File \u001b[1;32mc:\\users\\lfl\\qiskit-metal\\qiskit_metal\\qlibrary\\core\\base.py:710\u001b[0m, in \u001b[0;36mQComponent.rebuild\u001b[1;34m(self)\u001b[0m\n\u001b[0;32m    707\u001b[0m     \u001b[39m# pylint: disable=protected-access\u001b[39;00m\n\u001b[0;32m    708\u001b[0m     \u001b[39mself\u001b[39m\u001b[39m.\u001b[39mdesign\u001b[39m.\u001b[39m_delete_all_pins_for_component(\u001b[39mself\u001b[39m\u001b[39m.\u001b[39mid)\n\u001b[1;32m--> 710\u001b[0m \u001b[39mself\u001b[39;49m\u001b[39m.\u001b[39;49mmake()\n\u001b[0;32m    711\u001b[0m \u001b[39mself\u001b[39m\u001b[39m.\u001b[39m_made \u001b[39m=\u001b[39m \u001b[39mTrue\u001b[39;00m\n\u001b[0;32m    712\u001b[0m \u001b[39mself\u001b[39m\u001b[39m.\u001b[39mstatus \u001b[39m=\u001b[39m \u001b[39m'\u001b[39m\u001b[39mgood\u001b[39m\u001b[39m'\u001b[39m\n",
      "File \u001b[1;32md:\\andre\\SQuADDS_diss\\cavity_feedline.py:70\u001b[0m, in \u001b[0;36mCavityFeedline.make\u001b[1;34m(self)\u001b[0m\n\u001b[0;32m     62\u001b[0m \u001b[39mprint\u001b[39m(p\u001b[39m.\u001b[39mcoupling)\n\u001b[0;32m     63\u001b[0m coupler_opts \u001b[39m=\u001b[39m \u001b[39mdict\u001b[39m(prime_width\u001b[39m=\u001b[39mp\u001b[39m.\u001b[39mfeedline\u001b[39m.\u001b[39mtrace_width,\n\u001b[0;32m     64\u001b[0m                    prime_gap\u001b[39m=\u001b[39mp\u001b[39m.\u001b[39mfeedline\u001b[39m.\u001b[39mtrace_gap,\n\u001b[0;32m     65\u001b[0m                    second_width\u001b[39m=\u001b[39mp\u001b[39m.\u001b[39mcavity\u001b[39m.\u001b[39mtrace_width,\n\u001b[0;32m     66\u001b[0m                    second_gap\u001b[39m=\u001b[39mp\u001b[39m.\u001b[39mcavity\u001b[39m.\u001b[39mtrace_gap,\n\u001b[0;32m     67\u001b[0m                    coupling_space\u001b[39m=\u001b[39mp\u001b[39m.\u001b[39mcoupling[\u001b[39m'\u001b[39m\u001b[39mcoupling_space\u001b[39m\u001b[39m'\u001b[39m],\n\u001b[0;32m     68\u001b[0m                    coupling_length\u001b[39m=\u001b[39mp\u001b[39m.\u001b[39mcoupling[\u001b[39m'\u001b[39m\u001b[39mcoupling_length\u001b[39m\u001b[39m'\u001b[39m])\n\u001b[1;32m---> 70\u001b[0m \u001b[39mself\u001b[39;49m\u001b[39m.\u001b[39;49mmake_coupler(\u001b[39mself\u001b[39;49m, coupler_opts)\n",
      "\u001b[1;31mTypeError\u001b[0m: CavityFeedline.make_coupler() takes 2 positional arguments but 3 were given"
     ]
    }
   ],
   "source": [
    "from cavity_feedline import CavityFeedline\n",
    "\n",
    "# otg1_options = dict(width = '5.85um', \n",
    "#                    gap = '5.1um', \n",
    "#                 #    termination_gap = '500um',\n",
    "#                    pos_x='-100um',  \n",
    "#                    pos_y='500um', \n",
    "#                    orientation='90')\n",
    "\n",
    "# otg1 = OpenToGround(design, 'otg1', options=otg1_options)\n",
    "\n",
    "\n",
    "options = dict(\n",
    "    total_length = '3000um',\n",
    "    fillet = '50um',\n",
    "    coupling = dict(\n",
    "        coupling_type = 'capacitive', # acceptable inputs ['capacitive', 'inductive']\n",
    "        coupling_length = '100um',\n",
    "        coupling_space = '3um',\n",
    "    ),\n",
    "    cavity = dict(\n",
    "        trace_width = '10um',\n",
    "        trace_gap = '6um'\n",
    "    ),\n",
    "    feedline = dict(\n",
    "        trace_width = '10um',\n",
    "        trace_gap = '6um'\n",
    "    ),\n",
    "    # pin_options = dict(\n",
    "    #     start = dict(\n",
    "    #         component = 'component name',\n",
    "    #         pin = ''\n",
    "    #     ),\n",
    "    #     end = dict(\n",
    "    #         component = None, # if None, use wavelength (so either open or shorted to ground)\n",
    "    #         pin = None\n",
    "    #     )\n",
    "    # )\n",
    ")\n",
    "\n",
    "CavityFeedline(design, 'cavity', options=options)"
   ]
  },
  {
   "cell_type": "code",
   "execution_count": 3,
   "metadata": {},
   "outputs": [
    {
     "name": "stderr",
     "output_type": "stream",
     "text": [
      "05:06PM 01s ERROR [__getitem__]: \n",
      "Warning: User tried to access a variable in the parse options that is not there!\n",
      " Component name = `cavity`\n",
      " Option name    = `coupling.coupling_space`\n",
      "05:06PM 01s ERROR [__getitem__]: \n",
      "Warning: User tried to access a variable in the parse options that is not there!\n",
      " Component name = `cavity`\n",
      " Option name    = `coupling.coupling_lengthh`\n",
      "05:06PM 01s ERROR [rebuild]: ERROR in building component name=cavity, error=CavityFeedline.make_coupler() takes 2 positional arguments but 3 were given\n"
     ]
    },
    {
     "name": "stdout",
     "output_type": "stream",
     "text": [
      "HELLO\n"
     ]
    },
    {
     "ename": "TypeError",
     "evalue": "CavityFeedline.make_coupler() takes 2 positional arguments but 3 were given",
     "output_type": "error",
     "traceback": [
      "\u001b[1;31m---------------------------------------------------------------------------\u001b[0m",
      "\u001b[1;31mTypeError\u001b[0m                                 Traceback (most recent call last)",
      "Cell \u001b[1;32mIn[3], line 1\u001b[0m\n\u001b[1;32m----> 1\u001b[0m gui\u001b[39m.\u001b[39;49mrebuild()\n\u001b[0;32m      2\u001b[0m gui\u001b[39m.\u001b[39mautoscale()\n\u001b[0;32m      3\u001b[0m \u001b[39m# gui.zoom_on_components(['clt5', 'Q5'])\u001b[39;00m\n\u001b[0;32m      4\u001b[0m \u001b[39m# gui.screenshot()\u001b[39;00m\n",
      "File \u001b[1;32mc:\\users\\lfl\\qiskit-metal\\qiskit_metal\\_gui\\main_window.py:793\u001b[0m, in \u001b[0;36mMetalGUI.rebuild\u001b[1;34m(self, autoscale)\u001b[0m\n\u001b[0;32m    788\u001b[0m \u001b[39mdef\u001b[39;00m \u001b[39mrebuild\u001b[39m(\u001b[39mself\u001b[39m, autoscale: \u001b[39mbool\u001b[39m \u001b[39m=\u001b[39m \u001b[39mFalse\u001b[39;00m):\n\u001b[0;32m    789\u001b[0m \u001b[39m    \u001b[39m\u001b[39m\"\"\"\u001b[39;00m\n\u001b[0;32m    790\u001b[0m \u001b[39m    Rebuild all components in the design from scratch and refresh the gui.\u001b[39;00m\n\u001b[0;32m    791\u001b[0m \u001b[39m    \"\"\"\u001b[39;00m\n\u001b[1;32m--> 793\u001b[0m     \u001b[39mself\u001b[39;49m\u001b[39m.\u001b[39;49mdesign\u001b[39m.\u001b[39;49mrebuild()\n\u001b[0;32m    794\u001b[0m     \u001b[39mself\u001b[39m\u001b[39m.\u001b[39mrefresh()\n\u001b[0;32m    795\u001b[0m     \u001b[39mif\u001b[39;00m autoscale:\n",
      "File \u001b[1;32mc:\\users\\lfl\\qiskit-metal\\qiskit_metal\\designs\\design_base.py:469\u001b[0m, in \u001b[0;36mQDesign.rebuild\u001b[1;34m(self)\u001b[0m\n\u001b[0;32m    467\u001b[0m \u001b[39m\u001b[39m\u001b[39m\"\"\"Remakes all components with their current parameters.\"\"\"\u001b[39;00m\n\u001b[0;32m    468\u001b[0m \u001b[39mfor\u001b[39;00m _, obj \u001b[39min\u001b[39;00m \u001b[39mself\u001b[39m\u001b[39m.\u001b[39m_components\u001b[39m.\u001b[39mitems():  \u001b[39m# pylint: disable=unused-variable\u001b[39;00m\n\u001b[1;32m--> 469\u001b[0m     obj\u001b[39m.\u001b[39;49mrebuild()\n",
      "File \u001b[1;32mc:\\users\\lfl\\qiskit-metal\\qiskit_metal\\qlibrary\\core\\base.py:724\u001b[0m, in \u001b[0;36mQComponent.rebuild\u001b[1;34m(self)\u001b[0m\n\u001b[0;32m    719\u001b[0m \u001b[39mself\u001b[39m\u001b[39m.\u001b[39mlogger\u001b[39m.\u001b[39merror(\n\u001b[0;32m    720\u001b[0m     \u001b[39mf\u001b[39m\u001b[39m'\u001b[39m\u001b[39mERROR in building component name=\u001b[39m\u001b[39m{\u001b[39;00m\u001b[39mself\u001b[39m\u001b[39m.\u001b[39mname\u001b[39m}\u001b[39;00m\u001b[39m, error=\u001b[39m\u001b[39m{\u001b[39;00merror\u001b[39m}\u001b[39;00m\u001b[39m'\u001b[39m)\n\u001b[0;32m    721\u001b[0m \u001b[39mself\u001b[39m\u001b[39m.\u001b[39mdesign\u001b[39m.\u001b[39mbuild_logs\u001b[39m.\u001b[39madd_error(\n\u001b[0;32m    722\u001b[0m     \u001b[39mf\u001b[39m\u001b[39m\"\u001b[39m\u001b[39m{\u001b[39;00m\u001b[39mstr\u001b[39m(datetime\u001b[39m.\u001b[39mnow())\u001b[39m}\u001b[39;00m\u001b[39m -- Component: \u001b[39m\u001b[39m{\u001b[39;00m\u001b[39mself\u001b[39m\u001b[39m.\u001b[39mname\u001b[39m}\u001b[39;00m\u001b[39m failed with error\u001b[39m\u001b[39m\\n\u001b[39;00m\u001b[39m: \u001b[39m\u001b[39m{\u001b[39;00merror\u001b[39m}\u001b[39;00m\u001b[39m\"\u001b[39m\n\u001b[0;32m    723\u001b[0m )\n\u001b[1;32m--> 724\u001b[0m \u001b[39mraise\u001b[39;00m error\n",
      "File \u001b[1;32mc:\\users\\lfl\\qiskit-metal\\qiskit_metal\\qlibrary\\core\\base.py:710\u001b[0m, in \u001b[0;36mQComponent.rebuild\u001b[1;34m(self)\u001b[0m\n\u001b[0;32m    707\u001b[0m     \u001b[39m# pylint: disable=protected-access\u001b[39;00m\n\u001b[0;32m    708\u001b[0m     \u001b[39mself\u001b[39m\u001b[39m.\u001b[39mdesign\u001b[39m.\u001b[39m_delete_all_pins_for_component(\u001b[39mself\u001b[39m\u001b[39m.\u001b[39mid)\n\u001b[1;32m--> 710\u001b[0m \u001b[39mself\u001b[39;49m\u001b[39m.\u001b[39;49mmake()\n\u001b[0;32m    711\u001b[0m \u001b[39mself\u001b[39m\u001b[39m.\u001b[39m_made \u001b[39m=\u001b[39m \u001b[39mTrue\u001b[39;00m\n\u001b[0;32m    712\u001b[0m \u001b[39mself\u001b[39m\u001b[39m.\u001b[39mstatus \u001b[39m=\u001b[39m \u001b[39m'\u001b[39m\u001b[39mgood\u001b[39m\u001b[39m'\u001b[39m\n",
      "File \u001b[1;32md:\\andre\\SQuADDS_diss\\cavity_feedline.py:69\u001b[0m, in \u001b[0;36mCavityFeedline.make\u001b[1;34m(self)\u001b[0m\n\u001b[0;32m     61\u001b[0m \u001b[39mprint\u001b[39m(\u001b[39m\"\u001b[39m\u001b[39mHELLO\u001b[39m\u001b[39m\"\u001b[39m)\n\u001b[0;32m     62\u001b[0m coupler_opts \u001b[39m=\u001b[39m \u001b[39mdict\u001b[39m(prime_width\u001b[39m=\u001b[39mp\u001b[39m.\u001b[39mfeedline\u001b[39m.\u001b[39mtrace_width,\n\u001b[0;32m     63\u001b[0m                    prime_gap\u001b[39m=\u001b[39mp\u001b[39m.\u001b[39mfeedline\u001b[39m.\u001b[39mtrace_gap,\n\u001b[0;32m     64\u001b[0m                    second_width\u001b[39m=\u001b[39mp\u001b[39m.\u001b[39mcavity\u001b[39m.\u001b[39mtrace_width,\n\u001b[0;32m     65\u001b[0m                    second_gap\u001b[39m=\u001b[39mp\u001b[39m.\u001b[39mcavity\u001b[39m.\u001b[39mtrace_gap,\n\u001b[0;32m     66\u001b[0m                    coupling_space\u001b[39m=\u001b[39mp\u001b[39m.\u001b[39mcoupling[\u001b[39m'\u001b[39m\u001b[39mcoupling_space\u001b[39m\u001b[39m'\u001b[39m],\n\u001b[0;32m     67\u001b[0m                    coupling_length\u001b[39m=\u001b[39mp\u001b[39m.\u001b[39mcoupling[\u001b[39m'\u001b[39m\u001b[39mcoupling_lengthh\u001b[39m\u001b[39m'\u001b[39m])\n\u001b[1;32m---> 69\u001b[0m \u001b[39mself\u001b[39;49m\u001b[39m.\u001b[39;49mmake_coupler(\u001b[39mself\u001b[39;49m, coupler_opts)\n",
      "\u001b[1;31mTypeError\u001b[0m: CavityFeedline.make_coupler() takes 2 positional arguments but 3 were given"
     ]
    }
   ],
   "source": [
    "gui.rebuild()\n",
    "gui.autoscale()\n",
    "# gui.zoom_on_components(['clt5', 'Q5'])\n",
    "# gui.screenshot()"
   ]
  }
 ],
 "metadata": {
  "kernelspec": {
   "display_name": "qiskit_metal",
   "language": "python",
   "name": "qiskit_metal"
  },
  "language_info": {
   "codemirror_mode": {
    "name": "ipython",
    "version": 3
   },
   "file_extension": ".py",
   "mimetype": "text/x-python",
   "name": "python",
   "nbconvert_exporter": "python",
   "pygments_lexer": "ipython3",
   "version": "3.11.4"
  },
  "orig_nbformat": 4
 },
 "nbformat": 4,
 "nbformat_minor": 2
}
