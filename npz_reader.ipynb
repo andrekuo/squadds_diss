from numpy import load

data = load('2023-08-10 10-36-42 HamiltonianResultsContainer.npz')
lst = data.files
for item in lst:
    print(item)
    print(data[item])