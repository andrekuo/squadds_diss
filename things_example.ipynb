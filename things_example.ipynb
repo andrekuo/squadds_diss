{
 "cells": [
  {
   "cell_type": "code",
   "execution_count": 1,
   "metadata": {},
   "outputs": [],
   "source": [
    "from qubit_cavity import QubitCavity\n",
    "import qiskit_metal as metal\n",
    "from qiskit_metal import designs, draw\n",
    "from qiskit_metal import MetalGUI, Dict\n",
    "from qiskit_metal.designs.design_multiplanar import MultiPlanar\n",
    "\n",
    "from qiskit_metal.qlibrary.qubits.transmon_cross import TransmonCross\n",
    "from qiskit_metal.qlibrary.couplers.coupled_line_tee import CoupledLineTee\n",
    "from qiskit_metal.qlibrary.tlines.meandered import RouteMeander\n",
    "from qiskit_metal.qlibrary.core import QRoute, QRoutePoint\n",
    "\n",
    "\n",
    "\n",
    "# design = designs.DesignPlanar()\n",
    "design = MultiPlanar(metadata={},\n",
    "                     overwrite_enabled=True)\n",
    "gui = MetalGUI(design)\n",
    "\n",
    "design.overwrite_enabled = True"
   ]
  },
  {
   "cell_type": "code",
   "execution_count": 2,
   "metadata": {},
   "outputs": [],
   "source": [
    "qc_opts = Dict(\n",
    "    cavity_options = Dict(\n",
    "        coupling_type = 'interdigitated'\n",
    "    )\n",
    ")\n",
    "\n",
    "qubitcavity = QubitCavity(design, 'qubit_interdigitated', options = qc_opts)\n",
    "\n",
    "\n",
    "gui.rebuild()\n",
    "gui.autoscale()"
   ]
  },
  {
   "cell_type": "code",
   "execution_count": 2,
   "metadata": {},
   "outputs": [],
   "source": [
    "from qubit_driveline import QubitDriveline\n",
    "\n",
    "qd_opts = Dict(\n",
    "    qubit_options = Dict(\n",
    "        connection_pads = Dict(\n",
    "            readout = Dict(\n",
    "                connector_type = '0'\n",
    "            )\n",
    "        )\n",
    "    )\n",
    ")\n",
    "\n",
    "qubitdriveline = QubitDriveline(design, 'qubit_driveline', options = qd_opts)\n",
    "\n",
    "gui.rebuild()\n",
    "gui.autoscale()"
   ]
  },
  {
   "cell_type": "code",
   "execution_count": 5,
   "metadata": {},
   "outputs": [
    {
     "data": {
      "text/plain": [
       "{}"
      ]
     },
     "execution_count": 5,
     "metadata": {},
     "output_type": "execute_result"
    }
   ],
   "source": [
    "QubitDriveline.options"
   ]
  },
  {
   "cell_type": "code",
   "execution_count": null,
   "metadata": {},
   "outputs": [],
   "source": [
    "import pyEPR as epr\n",
    "from pyEPR.ansys import parse_units\n",
    "\n",
    "clt1 = CoupledLineTee(design, 'clt_test', Dict())\n",
    "# sum(parse_units([clt1.options.prime_width, clt1.options.second_width])) #/2 + clt1.options.prime_gap + clt1.options.second_gap + clt1.options.coupling_space + clt1.options.down_length)"
   ]
  },
  {
   "cell_type": "code",
   "execution_count": 5,
   "metadata": {},
   "outputs": [],
   "source": [
    "TransmonCross(design, 'xmon', Dict(pos_y = 1))\n",
    "\n",
    "gui.rebuild()\n",
    "gui.autoscale()"
   ]
  }
 ],
 "metadata": {
  "kernelspec": {
   "display_name": "qiskit_metal",
   "language": "python",
   "name": "qiskit_metal"
  },
  "language_info": {
   "codemirror_mode": {
    "name": "ipython",
    "version": 3
   },
   "file_extension": ".py",
   "mimetype": "text/x-python",
   "name": "python",
   "nbconvert_exporter": "python",
   "pygments_lexer": "ipython3",
   "version": "3.11.4"
  },
  "orig_nbformat": 4
 },
 "nbformat": 4,
 "nbformat_minor": 2
}
