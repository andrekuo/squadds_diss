{
 "cells": [
  {
   "cell_type": "code",
   "execution_count": 1,
   "metadata": {},
   "outputs": [],
   "source": [
    "%load_ext autoreload\n",
    "%autoreload 2"
   ]
  },
  {
   "cell_type": "code",
   "execution_count": 2,
   "metadata": {},
   "outputs": [],
   "source": [
    "import qiskit_metal as metal\n",
    "from qiskit_metal import designs, draw\n",
    "from qiskit_metal import MetalGUI, Dict\n",
    "from qiskit_metal.designs.design_multiplanar import MultiPlanar\n",
    "\n",
    "from qiskit_metal.qlibrary.qubits.transmon_cross import TransmonCross\n",
    "from qiskit_metal.qlibrary.couplers.coupled_line_tee import CoupledLineTee\n",
    "from qiskit_metal.qlibrary.tlines.meandered import RouteMeander\n",
    "from qiskit_metal.qlibrary.core import QRoute, QRoutePoint\n",
    "\n",
    "\n",
    "\n",
    "# design = designs.DesignPlanar()\n",
    "design = MultiPlanar(metadata={},\n",
    "                     overwrite_enabled=True)\n",
    "gui = MetalGUI(design)\n",
    "\n",
    "design.overwrite_enabled = True"
   ]
  },
  {
   "cell_type": "code",
   "execution_count": 3,
   "metadata": {},
   "outputs": [
    {
     "name": "stdout",
     "output_type": "stream",
     "text": [
      "cavity_options.coupler_options.pos_x\n",
      "cavity_options.coupler_options.pos_y\n",
      "cavity_options.coupler_options.orientation\n",
      "cavity_options.coupler_options.chip\n",
      "cavity_options.coupler_options.layer\n"
     ]
    }
   ],
   "source": [
    "from qiskit_metal.qlibrary.couplers.cap_n_interdigital_tee import CapNInterdigitalTee\n",
    "from qiskit_metal.qlibrary.core import QComponent\n",
    "\n",
    "for option in QComponent.default_options:                                                                   \n",
    "    print(f'cavity_options.coupler_options.{option}')"
   ]
  },
  {
   "cell_type": "code",
   "execution_count": 4,
   "metadata": {},
   "outputs": [],
   "source": [
    "xmon_options = dict(\n",
    "    connection_pads=dict(\n",
    "        readout = dict(connector_location = '90', \n",
    "                 connector_type = '0', \n",
    "                 claw_length = '215um',\n",
    "                 ground_spacing = '10um', \n",
    "                 claw_gap = '5.1um', \n",
    "                 claw_width = '15um'),\n",
    "    ),\n",
    "    cross_width = '30um',\n",
    "    cross_length = '240um',\n",
    "    cross_gap = '30um',\n",
    "    aedt_hfss_inductance = 9.686E-9\n",
    ")\n",
    "\n",
    "clt_opts = Dict(prime_width = '10um',\n",
    "                prime_gap = '5.1um',\n",
    "                second_width = '10um',\n",
    "                second_gap = '5.1um',\n",
    "                coupling_space = '7.9um',\n",
    "                coupling_length = '225um',\n",
    "                open_termination = False,\n",
    "                down_length = '50um')\n",
    "\n",
    "cpw_opts = Dict(pin_inputs = Dict(start_pin = Dict(component = 'clt',\n",
    "                                                    pin = 'second_end'),\n",
    "                                   end_pin = Dict(component = 'qubit',\n",
    "                                                  pin = 'readout')),\n",
    "                left_options = Dict(\n",
    "                    lead = Dict(\n",
    "                        # start_straight = '5',\n",
    "                        # end_straight = '70um',\n",
    "                                # start_jogged_extension = jogsS),\n",
    "                    ),\n",
    "                    fillet = '49.9um',\n",
    "                    total_length = '3900um',#'3893.8166um', # '6776um',\n",
    "                    trace_width = '10um',\n",
    "                    meander = Dict(spacing = '100um',\n",
    "                                asymmetry = '-150um'),\n",
    "                    trace_gap = '5.1um',)\n",
    ")\n"
   ]
  },
  {
   "cell_type": "code",
   "execution_count": 5,
   "metadata": {},
   "outputs": [],
   "source": [
    "qubit_cavity_opts = Dict(\n",
    "    qubit_options = xmon_options,\n",
    "    cavity_options = Dict(\n",
    "        coupling_type = 'capacitive',\n",
    "        coupler_options = clt_opts,\n",
    "        cpw_options = cpw_opts\n",
    "    )\n",
    ")"
   ]
  },
  {
   "cell_type": "code",
   "execution_count": 6,
   "metadata": {},
   "outputs": [
    {
     "name": "stdout",
     "output_type": "stream",
     "text": [
      "{'total_length': 3.9, 'pin_inputs': {'start_pin': {'component': 'qubit_cavity_xmon', 'pin': 'readout'}, 'end_pin': {'component': 'qubit_cavity_cap_coupler', 'pin': 'second_end'}}, 'fillet': 0.0499, 'lead': {}, 'trace_width': 0.01, 'meander': {'spacing': 0.1, 'asymmetry': -0.15}, 'trace_gap': 0.0050999999999999995}\n",
      "{'total_length': 3.9, 'pin_inputs': {'start_pin': {'component': 'qubit_cavity_xmon', 'pin': 'readout'}, 'end_pin': {'component': 'qubit_cavity_cap_coupler', 'pin': 'second_end'}}, 'fillet': 0.0499, 'lead': {}, 'trace_width': 0.01, 'meander': {'spacing': 0.1, 'asymmetry': -0.15}, 'trace_gap': 0.0050999999999999995}\n"
     ]
    }
   ],
   "source": [
    "from qubit_cavity import QubitCavity\n",
    "\n",
    "# xmon = TransmonCross(design, 'qubit', options = xmon_options)\n",
    "# clt = CoupledLineTee(design, 'clt', clt_opts)\n",
    "# cpw = RouteMeander(design, 'cpw', options = cpw_opts)\n",
    "qubitcavity = QubitCavity(design, 'qubit_cavity', options = qubit_cavity_opts)\n",
    "qubit = TransmonCross(design, 'qubit1', options = xmon_options)\n",
    "gui.rebuild()\n",
    "gui.autoscale()\n",
    "# gui.zoom_on_components(['cavity_qubit'])"
   ]
  },
  {
   "cell_type": "code",
   "execution_count": 7,
   "metadata": {},
   "outputs": [],
   "source": [
    "from qiskit_metal.renderers.renderer_ansys_pyaedt.hfss_renderer_eigenmode_aedt import QHFSSEigenmodePyaedt\n",
    "import pyEPR as epr"
   ]
  },
  {
   "cell_type": "code",
   "execution_count": 8,
   "metadata": {},
   "outputs": [
    {
     "name": "stdout",
     "output_type": "stream",
     "text": [
      "pyaedt INFO: using existing logger.\n"
     ]
    },
    {
     "name": "stderr",
     "output_type": "stream",
     "text": [
      "INFO:Global:using existing logger.\n"
     ]
    },
    {
     "name": "stdout",
     "output_type": "stream",
     "text": [
      "pyaedt INFO: Launching PyAEDT outside AEDT with CPython and PythonNET.\n"
     ]
    },
    {
     "name": "stderr",
     "output_type": "stream",
     "text": [
      "INFO:Global:Launching PyAEDT outside AEDT with CPython and PythonNET.\n"
     ]
    },
    {
     "name": "stdout",
     "output_type": "stream",
     "text": [
      "pyaedt INFO: AEDT installation Path D:\\Program Files\\AnsysEM\\AnsysEM21.1\\Win64.\n"
     ]
    },
    {
     "name": "stderr",
     "output_type": "stream",
     "text": [
      "INFO:Global:AEDT installation Path D:\\Program Files\\AnsysEM\\AnsysEM21.1\\Win64.\n"
     ]
    },
    {
     "name": "stdout",
     "output_type": "stream",
     "text": [
      "pyaedt INFO: Launching AEDT with module PythonNET.\n"
     ]
    },
    {
     "name": "stderr",
     "output_type": "stream",
     "text": [
      "INFO:Global:Launching AEDT with module PythonNET.\n"
     ]
    },
    {
     "name": "stdout",
     "output_type": "stream",
     "text": [
      "pyaedt WARNING: PyAEDT is not supported in AEDT versions earlier than 2021 R2. Trying to launch PyAEDT with PyWin32.\n"
     ]
    },
    {
     "name": "stderr",
     "output_type": "stream",
     "text": [
      "WARNING:Global:PyAEDT is not supported in AEDT versions earlier than 2021 R2. Trying to launch PyAEDT with PyWin32.\n"
     ]
    },
    {
     "name": "stdout",
     "output_type": "stream",
     "text": [
      "pyaedt INFO: pyaedt v0.6.46\n"
     ]
    },
    {
     "name": "stderr",
     "output_type": "stream",
     "text": [
      "INFO:Global:pyaedt v0.6.46\n"
     ]
    },
    {
     "name": "stdout",
     "output_type": "stream",
     "text": [
      "pyaedt INFO: Python version 3.11.4 | packaged by conda-forge | (main, Jun 10 2023, 17:59:51) [MSC v.1935 64 bit (AMD64)]\n"
     ]
    },
    {
     "name": "stderr",
     "output_type": "stream",
     "text": [
      "INFO:Global:Python version 3.11.4 | packaged by conda-forge | (main, Jun 10 2023, 17:59:51) [MSC v.1935 64 bit (AMD64)]\n"
     ]
    },
    {
     "name": "stdout",
     "output_type": "stream",
     "text": [
      "pyaedt INFO: Project test_qubit_cavity_saruman_proj set to active.\n"
     ]
    },
    {
     "name": "stderr",
     "output_type": "stream",
     "text": [
      "INFO:Global:Project test_qubit_cavity_saruman_proj set to active.\n"
     ]
    },
    {
     "name": "stdout",
     "output_type": "stream",
     "text": [
      "pyaedt INFO: Aedt Objects initialized\n"
     ]
    },
    {
     "name": "stderr",
     "output_type": "stream",
     "text": [
      "INFO:Global:Aedt Objects initialized\n"
     ]
    },
    {
     "name": "stdout",
     "output_type": "stream",
     "text": [
      "pyaedt INFO: Variable Manager initialized\n"
     ]
    },
    {
     "name": "stderr",
     "output_type": "stream",
     "text": [
      "INFO:Global:Variable Manager initialized\n"
     ]
    },
    {
     "name": "stdout",
     "output_type": "stream",
     "text": [
      "pyaedt INFO: Design Loaded\n"
     ]
    },
    {
     "name": "stderr",
     "output_type": "stream",
     "text": [
      "INFO:Global:Design Loaded\n"
     ]
    },
    {
     "name": "stdout",
     "output_type": "stream",
     "text": [
      "pyaedt INFO: Successfully loaded project materials !\n"
     ]
    },
    {
     "name": "stderr",
     "output_type": "stream",
     "text": [
      "INFO:Global:Successfully loaded project materials !\n"
     ]
    },
    {
     "name": "stdout",
     "output_type": "stream",
     "text": [
      "pyaedt INFO: Materials Loaded\n"
     ]
    },
    {
     "name": "stderr",
     "output_type": "stream",
     "text": [
      "INFO:Global:Materials Loaded\n"
     ]
    },
    {
     "name": "stdout",
     "output_type": "stream",
     "text": [
      "pyaedt INFO: aedt file load time 0.005000591278076172\n"
     ]
    },
    {
     "name": "stderr",
     "output_type": "stream",
     "text": [
      "INFO:Global:aedt file load time 0.005000591278076172\n"
     ]
    },
    {
     "name": "stdout",
     "output_type": "stream",
     "text": [
      "pyaedt INFO: Project test_qubit_cavity_saruman_proj set to active.\n"
     ]
    },
    {
     "name": "stderr",
     "output_type": "stream",
     "text": [
      "INFO:Global:Project test_qubit_cavity_saruman_proj set to active.\n"
     ]
    },
    {
     "name": "stdout",
     "output_type": "stream",
     "text": [
      "pyaedt INFO: Aedt Objects initialized\n"
     ]
    },
    {
     "name": "stderr",
     "output_type": "stream",
     "text": [
      "INFO:Global:Aedt Objects initialized\n"
     ]
    },
    {
     "name": "stdout",
     "output_type": "stream",
     "text": [
      "pyaedt INFO: Variable Manager initialized\n"
     ]
    },
    {
     "name": "stderr",
     "output_type": "stream",
     "text": [
      "INFO:Global:Variable Manager initialized\n"
     ]
    },
    {
     "name": "stdout",
     "output_type": "stream",
     "text": [
      "pyaedt INFO: Design Loaded\n"
     ]
    },
    {
     "name": "stderr",
     "output_type": "stream",
     "text": [
      "INFO:Global:Design Loaded\n"
     ]
    },
    {
     "name": "stdout",
     "output_type": "stream",
     "text": [
      "pyaedt INFO: Successfully loaded project materials !\n"
     ]
    },
    {
     "name": "stderr",
     "output_type": "stream",
     "text": [
      "INFO:Global:Successfully loaded project materials !\n"
     ]
    },
    {
     "name": "stdout",
     "output_type": "stream",
     "text": [
      "pyaedt INFO: Materials Loaded\n"
     ]
    },
    {
     "name": "stderr",
     "output_type": "stream",
     "text": [
      "INFO:Global:Materials Loaded\n"
     ]
    }
   ],
   "source": [
    "em1_aedt = QHFSSEigenmodePyaedt(design, \n",
    "                                'test_qubit_cavity_saruman_proj',\n",
    "                                'test_qubit_cavity_saruman_design',\n",
    "                                initiate=True)\n",
    "hfss_aedt = em1_aedt.current_app"
   ]
  },
  {
   "cell_type": "code",
   "execution_count": 9,
   "metadata": {},
   "outputs": [],
   "source": [
    "def render_design():\n",
    "    em1_aedt.render_design()"
   ]
  },
  {
   "cell_type": "code",
   "execution_count": 10,
   "metadata": {},
   "outputs": [],
   "source": [
    "def run_simulation():\n",
    "    #### Computer's variables\n",
    "    num_cores=16\n",
    "    num_gpu=1\n",
    "    \n",
    "    #### Setup Name\n",
    "    setup_name = 'TransmonSetup'\n",
    "    \n",
    "    # Change Silicon to Ultracold Silicon\n",
    "    hfss_aedt.materials['silicon'].permittivity = 11.45\n",
    "    \n",
    "    # Add project variables\n",
    "    add_project_level_vars(em1_aedt)\n",
    "    \n",
    "    # Clear setups\n",
    "    if len(hfss_aedt.setups) != 0:\n",
    "        hfss_aedt.setups[0].delete()\n",
    "    \n",
    "    # Add Setup\n",
    "    setup_options = dict(\n",
    "        name= setup_name,\n",
    "        MinimumFrequency = 3,  # GHz\n",
    "        NumModes= 1,\n",
    "        MaxDeltaFreq = 0.1,\n",
    "        MaximumPasses= 50,\n",
    "        MinimumPasses= None,\n",
    "        MinimumConvergedPasses= 2,\n",
    "        PercentRefinement= 30,\n",
    "        BasisOrder= None\n",
    "    )\n",
    "    \n",
    "    em1_aedt.add_hfss_em_setup(**setup_options)\n",
    "    \n",
    "    hfss_aedt.analyze_setup(name=setup_name, \n",
    "                            num_cores=num_cores, \n",
    "                            num_gpu=num_gpu)\n",
    "    \n",
    "    # Make silicon ultra cold\n",
    "    hfss_aedt.materials['silicon'].permittivity = 11.45\n",
    "\n",
    "def add_project_level_vars(renderer):\n",
    "    \"\"\"\n",
    "    Finds all names, inductances, and capacitances of Josephson Junctions rendered into ANSYS.\n",
    "\n",
    "    Args:\n",
    "        renderer (QHFSSEigenmodePyaedt)\n",
    "    \"\"\"\n",
    "    # Get all josephson junctions from rendered components table\n",
    "    geom_table = renderer.path_poly_and_junction_with_valid_comps\n",
    "    all_jjs = geom_table.loc[geom_table['name'].str.contains('rect_jj')]\n",
    "    all_jjs = all_jjs.reset_index(drop=True)\n",
    "\n",
    "    for i, row in all_jjs.iterrows():\n",
    "        ### Parsing Data ###\n",
    "        component = str(row['component'])\n",
    "        name = str(row['name'])\n",
    "        inductance = row['aedt_hfss_inductance']  # Lj in Henries\n",
    "        capacitance = row['aedt_hfss_capacitance']  # Cj in Farads\n",
    "\n",
    "        # Get ANSYS > Model > Sheet corresponding to JJs\n",
    "        rect_name = 'JJ_rect_Lj_' + component + '_' + name\n",
    "\n",
    "        # Get ANSYS > Model > Lines corresponding to JJs\n",
    "        line_name = 'JJ_Lj_' + component + '_' + name + '_'\n",
    "\n",
    "        ### Appending data ###\n",
    "        # Add global Lj and Cj variables to ANSYS (for EPR analysis)\n",
    "        ansys_Lj_name = f'Lj_{i}'\n",
    "        ansys_Cj_name = f'Cj_{i}'\n",
    "\n",
    "        renderer.set_variable(ansys_Lj_name, str(inductance * 1E9) + 'nH')\n",
    "        renderer.set_variable(ansys_Cj_name, str(capacitance * 1E15) + 'fF')\n",
    "\n",
    "def run_analysis():\n",
    "    '''\n",
    "    After finishing simulation, analyze results\n",
    "    '''\n",
    "    em1_aedt.run_epr()\n",
    "    \n",
    "    # Extract observables of int\n",
    "    observables = extract_observables(em1_aedt.epr_quantum_analysis, 'qubit')\n",
    "    return observables\n",
    "\n",
    "\n",
    "\n",
    "def extract_observables(epra,\n",
    "                        geom_type,\n",
    "                        cos_trunc: int = 10, \n",
    "                        fock_trunc: int = 15):\n",
    "    '''\n",
    "    Extract observables from EPR quantum analysis\n",
    "    \n",
    "    Args:\n",
    "        epra (epr.QuantumAnalysis): Raw EPR Quanutm analysis class\n",
    "        cos_trunc (int, optional): amount of terms to consider in cosine expansion\n",
    "        fock_trunc (int, optional): size of fock space before truncation\n",
    "        \n",
    "    Returns:\n",
    "        package (dict): simulated observables\n",
    "    '''\n",
    "    \n",
    "    # Extraction of variables\n",
    "    omegas = epra.get_frequencies()\n",
    "    chis = epra.get_chis()\n",
    "    other_data = epra.data\n",
    "    \n",
    "    package = dict(qubit_freq_MHz = omegas['0'][0],\n",
    "                   qubit_anharmonicity_MHz = chis[0][0],\n",
    "                   cavity_freq_MHz = omegas['0'][1],\n",
    "                   )\n",
    "    \n",
    "    # if geom_type.upper() != 'QUBITONLY':\n",
    "    #     package['coupling_strength_MHz'] = -1\n",
    "    #     package['feedline_coupling'] = -1\n",
    "\n",
    "    # if geom_type.upper() == 'QUBITCAVITY':\n",
    "    #     package['cavity_freq_MHz'] = omegas['0'][1]\n",
    "    #     package['cavity_wavelength'] = 'quarter' if em1_aedt.design.components['qubit_cavity'].options['cavity_options']['coupler_options']['open_termination'] else 'half'\n",
    "\n",
    "    package['other_data'] = str(other_data)\n",
    "    \n",
    "    return package"
   ]
  },
  {
   "cell_type": "code",
   "execution_count": 11,
   "metadata": {},
   "outputs": [
    {
     "data": {
      "text/plain": [
       "False"
      ]
     },
     "execution_count": 11,
     "metadata": {},
     "output_type": "execute_result"
    }
   ],
   "source": [
    "em1_aedt.design.components['qubit_cavity'].options['cavity_options']['coupler_options']['open_termination']"
   ]
  },
  {
   "cell_type": "code",
   "execution_count": 12,
   "metadata": {},
   "outputs": [],
   "source": [
    "def run_single_design(): # this will be used as `custom_analysis`\n",
    "\n",
    "    render_design()\n",
    "    run_simulation()\n",
    "    package = run_analysis()\n",
    "    return package"
   ]
  },
  {
   "cell_type": "code",
   "execution_count": 13,
   "metadata": {},
   "outputs": [
    {
     "name": "stdout",
     "output_type": "stream",
     "text": [
      "Processing c:\\users\\lfl\\metal-library\n",
      "  Preparing metadata (setup.py): started\n",
      "  Preparing metadata (setup.py): finished with status 'done'\n",
      "Building wheels for collected packages: metal-library\n",
      "  Building wheel for metal-library (setup.py): started\n",
      "  Building wheel for metal-library (setup.py): finished with status 'done'\n",
      "  Created wheel for metal-library: filename=metal_library-1.0.0-py3-none-any.whl size=574787 sha256=f3d5f22f3f33119d3b834d58325f2d0df76b401692c4ac5944449533edbe274e\n",
      "  Stored in directory: c:\\users\\lfl\\appdata\\local\\pip\\cache\\wheels\\a7\\4a\\9c\\0cfe2ec6c6be710a3e8d71b6156e1c76406fee205810faaa9d\n",
      "Successfully built metal-library\n",
      "Installing collected packages: metal-library\n",
      "  Attempting uninstall: metal-library\n",
      "    Found existing installation: metal-library 1.0.0\n",
      "    Uninstalling metal-library-1.0.0:\n",
      "      Successfully uninstalled metal-library-1.0.0\n",
      "Successfully installed metal-library-1.0.0\n"
     ]
    }
   ],
   "source": [
    "!pip install C:\\Users\\lfl\\metal-library\\."
   ]
  },
  {
   "cell_type": "code",
   "execution_count": 14,
   "metadata": {},
   "outputs": [],
   "source": [
    "from metal_library import QSweeper\n",
    "sweeper = QSweeper(design)"
   ]
  },
  {
   "cell_type": "code",
   "execution_count": 15,
   "metadata": {},
   "outputs": [
    {
     "name": "stderr",
     "output_type": "stream",
     "text": [
      "  0%|          | 0/80 [00:00<?, ?it/s]"
     ]
    },
    {
     "name": "stdout",
     "output_type": "stream",
     "text": [
      "{'total_length': 3.9, 'pin_inputs': {'start_pin': {'component': 'qubit_cavity_xmon', 'pin': 'readout'}, 'end_pin': {'component': 'qubit_cavity_cap_coupler', 'pin': 'second_end'}}, 'fillet': 0.0499, 'lead': {}, 'trace_width': 0.01, 'meander': {'spacing': 0.1, 'asymmetry': -0.15}, 'trace_gap': 0.0050999999999999995}\n",
      "pyaedt INFO: Project test_qubit_cavity_saruman_proj set to active.\n"
     ]
    },
    {
     "name": "stderr",
     "output_type": "stream",
     "text": [
      "INFO:Global:Project test_qubit_cavity_saruman_proj set to active.\n"
     ]
    },
    {
     "name": "stdout",
     "output_type": "stream",
     "text": [
      "pyaedt INFO: Aedt Objects initialized\n"
     ]
    },
    {
     "name": "stderr",
     "output_type": "stream",
     "text": [
      "INFO:Global:Aedt Objects initialized\n"
     ]
    },
    {
     "name": "stdout",
     "output_type": "stream",
     "text": [
      "pyaedt INFO: Variable Manager initialized\n"
     ]
    },
    {
     "name": "stderr",
     "output_type": "stream",
     "text": [
      "INFO:Global:Variable Manager initialized\n"
     ]
    },
    {
     "name": "stdout",
     "output_type": "stream",
     "text": [
      "pyaedt INFO: Design Loaded\n"
     ]
    },
    {
     "name": "stderr",
     "output_type": "stream",
     "text": [
      "INFO:Global:Design Loaded\n"
     ]
    },
    {
     "name": "stdout",
     "output_type": "stream",
     "text": [
      "pyaedt INFO: Successfully loaded project materials !\n"
     ]
    },
    {
     "name": "stderr",
     "output_type": "stream",
     "text": [
      "INFO:Global:Successfully loaded project materials !\n"
     ]
    },
    {
     "name": "stdout",
     "output_type": "stream",
     "text": [
      "pyaedt INFO: Materials Loaded\n"
     ]
    },
    {
     "name": "stderr",
     "output_type": "stream",
     "text": [
      "INFO:Global:Materials Loaded\n"
     ]
    },
    {
     "name": "stdout",
     "output_type": "stream",
     "text": [
      "pyaedt INFO: Project test_qubit_cavity_saruman_proj set to active.\n"
     ]
    },
    {
     "name": "stderr",
     "output_type": "stream",
     "text": [
      "INFO:Global:Project test_qubit_cavity_saruman_proj set to active.\n"
     ]
    },
    {
     "name": "stdout",
     "output_type": "stream",
     "text": [
      "pyaedt INFO: Aedt Objects initialized\n"
     ]
    },
    {
     "name": "stderr",
     "output_type": "stream",
     "text": [
      "INFO:Global:Aedt Objects initialized\n"
     ]
    },
    {
     "name": "stdout",
     "output_type": "stream",
     "text": [
      "pyaedt INFO: Variable Manager initialized\n"
     ]
    },
    {
     "name": "stderr",
     "output_type": "stream",
     "text": [
      "INFO:Global:Variable Manager initialized\n"
     ]
    },
    {
     "name": "stdout",
     "output_type": "stream",
     "text": [
      "pyaedt INFO: Design Loaded\n"
     ]
    },
    {
     "name": "stderr",
     "output_type": "stream",
     "text": [
      "INFO:Global:Design Loaded\n"
     ]
    },
    {
     "name": "stdout",
     "output_type": "stream",
     "text": [
      "pyaedt INFO: Successfully loaded project materials !\n"
     ]
    },
    {
     "name": "stderr",
     "output_type": "stream",
     "text": [
      "INFO:Global:Successfully loaded project materials !\n"
     ]
    },
    {
     "name": "stdout",
     "output_type": "stream",
     "text": [
      "pyaedt INFO: Materials Loaded\n"
     ]
    },
    {
     "name": "stderr",
     "output_type": "stream",
     "text": [
      "INFO:Global:Materials Loaded\n"
     ]
    },
    {
     "name": "stdout",
     "output_type": "stream",
     "text": [
      "pyaedt INFO: Deleted 9 Objects: layer_1_datatype_0_plane,layer_3_datatype_0_plane,vacuum_box,prime_cpw_qubit_cavity_cap_coupler_shortline,prime_cpw_sub_qubit_cavity_cap_coupler_shortline,second_cpw_qubit_cavity_cap_coupler_shortline,second_cpw_sub_qubit_cavity_ca...\n"
     ]
    },
    {
     "name": "stderr",
     "output_type": "stream",
     "text": [
      "INFO:Global:Deleted 9 Objects: layer_1_datatype_0_plane,layer_3_datatype_0_plane,vacuum_box,prime_cpw_qubit_cavity_cap_coupler_shortline,prime_cpw_sub_qubit_cavity_cap_coupler_shortline,second_cpw_qubit_cavity_cap_coupler_shortline,second_cpw_sub_qubit_cavity_ca...\n"
     ]
    },
    {
     "name": "stdout",
     "output_type": "stream",
     "text": [
      "pyaedt INFO: Project test_qubit_cavity_saruman_proj set to active.\n"
     ]
    },
    {
     "name": "stderr",
     "output_type": "stream",
     "text": [
      "INFO:Global:Project test_qubit_cavity_saruman_proj set to active.\n"
     ]
    },
    {
     "name": "stdout",
     "output_type": "stream",
     "text": [
      "pyaedt INFO: Aedt Objects initialized\n"
     ]
    },
    {
     "name": "stderr",
     "output_type": "stream",
     "text": [
      "INFO:Global:Aedt Objects initialized\n"
     ]
    },
    {
     "name": "stdout",
     "output_type": "stream",
     "text": [
      "pyaedt INFO: Variable Manager initialized\n"
     ]
    },
    {
     "name": "stderr",
     "output_type": "stream",
     "text": [
      "INFO:Global:Variable Manager initialized\n"
     ]
    },
    {
     "name": "stdout",
     "output_type": "stream",
     "text": [
      "pyaedt INFO: Design Loaded\n"
     ]
    },
    {
     "name": "stderr",
     "output_type": "stream",
     "text": [
      "INFO:Global:Design Loaded\n"
     ]
    },
    {
     "name": "stdout",
     "output_type": "stream",
     "text": [
      "pyaedt INFO: Successfully loaded project materials !\n"
     ]
    },
    {
     "name": "stderr",
     "output_type": "stream",
     "text": [
      "INFO:Global:Successfully loaded project materials !\n"
     ]
    },
    {
     "name": "stdout",
     "output_type": "stream",
     "text": [
      "pyaedt INFO: Materials Loaded\n"
     ]
    },
    {
     "name": "stderr",
     "output_type": "stream",
     "text": [
      "INFO:Global:Materials Loaded\n",
      "  0%|          | 0/80 [00:28<?, ?it/s]\n"
     ]
    },
    {
     "ename": "AttributeError",
     "evalue": "'NoneType' object has no attribute 'transparency'",
     "output_type": "error",
     "traceback": [
      "\u001b[1;31m---------------------------------------------------------------------------\u001b[0m",
      "\u001b[1;31mAttributeError\u001b[0m                            Traceback (most recent call last)",
      "Cell \u001b[1;32mIn[15], line 45\u001b[0m\n\u001b[0;32m      1\u001b[0m sweep_parameters \u001b[39m=\u001b[39m Dict(\n\u001b[0;32m      2\u001b[0m   qubit_options \u001b[39m=\u001b[39m Dict(\n\u001b[0;32m      3\u001b[0m     connection_pads \u001b[39m=\u001b[39m Dict(\n\u001b[1;32m   (...)\u001b[0m\n\u001b[0;32m     28\u001b[0m   )\n\u001b[0;32m     29\u001b[0m )\n\u001b[0;32m     31\u001b[0m qubit_options \u001b[39m=\u001b[39m Dict(\n\u001b[0;32m     32\u001b[0m     connection_pads \u001b[39m=\u001b[39m Dict(\n\u001b[0;32m     33\u001b[0m       readout \u001b[39m=\u001b[39m Dict(\n\u001b[1;32m   (...)\u001b[0m\n\u001b[0;32m     42\u001b[0m         )\n\u001b[0;32m     43\u001b[0m     ))\n\u001b[1;32m---> 45\u001b[0m my_librarian \u001b[39m=\u001b[39m sweeper\u001b[39m.\u001b[39;49mrun_single_component_sweep(component_name\u001b[39m=\u001b[39;49m\u001b[39m'\u001b[39;49m\u001b[39mqubit1\u001b[39;49m\u001b[39m'\u001b[39;49m,\n\u001b[0;32m     46\u001b[0m                                                   parameters \u001b[39m=\u001b[39;49m qubit_options,\n\u001b[0;32m     47\u001b[0m                                                   custom_analysis \u001b[39m=\u001b[39;49m run_single_design,\n\u001b[0;32m     48\u001b[0m                                                   parameters_slice\u001b[39m=\u001b[39;49m\u001b[39mslice\u001b[39;49m(\u001b[39m100\u001b[39;49m,),\n\u001b[0;32m     49\u001b[0m                                                   save_path\u001b[39m=\u001b[39;49m\u001b[39m\"\u001b[39;49m\u001b[39mqubitcavity_epr_sweepv2.6.csv\u001b[39;49m\u001b[39m\"\u001b[39;49m)\n",
      "File \u001b[1;32mc:\\Users\\lfl\\.conda\\envs\\qiskit_metal\\Lib\\site-packages\\metal_library\\core\\sweeper.py:77\u001b[0m, in \u001b[0;36mQSweeper.run_single_component_sweep\u001b[1;34m(self, component_name, parameters, custom_analysis, parameters_slice, save_path, **kwargs)\u001b[0m\n\u001b[0;32m     74\u001b[0m design\u001b[39m.\u001b[39mrebuild()\n\u001b[0;32m     76\u001b[0m \u001b[39m# Run the analysis, extract important data\u001b[39;00m\n\u001b[1;32m---> 77\u001b[0m data \u001b[39m=\u001b[39m run_analysis(\u001b[39m*\u001b[39;49m\u001b[39m*\u001b[39;49mkwargs) \u001b[39m# type(data) -> dict\u001b[39;00m\n\u001b[0;32m     79\u001b[0m \u001b[39m# Log QComponent.options and data from analysis\u001b[39;00m\n\u001b[0;32m     80\u001b[0m \u001b[39mself\u001b[39m\u001b[39m.\u001b[39mlibrarian\u001b[39m.\u001b[39mfrom_dict(component\u001b[39m.\u001b[39moptions, \u001b[39m'\u001b[39m\u001b[39msingle_qoption\u001b[39m\u001b[39m'\u001b[39m) \u001b[39m# geometrical options\u001b[39;00m\n",
      "Cell \u001b[1;32mIn[12], line 3\u001b[0m, in \u001b[0;36mrun_single_design\u001b[1;34m()\u001b[0m\n\u001b[0;32m      1\u001b[0m \u001b[39mdef\u001b[39;00m \u001b[39mrun_single_design\u001b[39m(): \u001b[39m# this will be used as `custom_analysis`\u001b[39;00m\n\u001b[1;32m----> 3\u001b[0m     render_design()\n\u001b[0;32m      4\u001b[0m     run_simulation()\n\u001b[0;32m      5\u001b[0m     package \u001b[39m=\u001b[39m run_analysis()\n",
      "Cell \u001b[1;32mIn[9], line 2\u001b[0m, in \u001b[0;36mrender_design\u001b[1;34m()\u001b[0m\n\u001b[0;32m      1\u001b[0m \u001b[39mdef\u001b[39;00m \u001b[39mrender_design\u001b[39m():\n\u001b[1;32m----> 2\u001b[0m     em1_aedt\u001b[39m.\u001b[39;49mrender_design()\n",
      "File \u001b[1;32mc:\\users\\lfl\\qiskit-metal\\qiskit_metal\\renderers\\renderer_ansys_pyaedt\\hfss_renderer_eigenmode_aedt.py:235\u001b[0m, in \u001b[0;36mQHFSSEigenmodePyaedt.render_design\u001b[1;34m(self, selection, open_pins, port_list, jj_to_port, ignored_jjs, box_plus_buffer)\u001b[0m\n\u001b[0;32m    230\u001b[0m     \u001b[39mself\u001b[39m\u001b[39m.\u001b[39mdesign\u001b[39m.\u001b[39mlogger\u001b[39m.\u001b[39merror(\n\u001b[0;32m    231\u001b[0m         \u001b[39mf\u001b[39m\u001b[39m'\u001b[39m\u001b[39mIn eigenmode solution, there should NOT be any values for jj_to_port or port_list.\u001b[39m\u001b[39m'\u001b[39m\n\u001b[0;32m    232\u001b[0m     )\n\u001b[0;32m    233\u001b[0m     \u001b[39mreturn\u001b[39;00m\n\u001b[1;32m--> 235\u001b[0m \u001b[39msuper\u001b[39;49m()\u001b[39m.\u001b[39;49mrender_design(selection, open_pins, port_list, jj_to_port,\n\u001b[0;32m    236\u001b[0m                       ignored_jjs, box_plus_buffer)\n\u001b[0;32m    238\u001b[0m \u001b[39mif\u001b[39;00m \u001b[39mself\u001b[39m\u001b[39m.\u001b[39mcase \u001b[39m==\u001b[39m \u001b[39m2\u001b[39m:\n\u001b[0;32m    239\u001b[0m     \u001b[39mself\u001b[39m\u001b[39m.\u001b[39mlogger\u001b[39m.\u001b[39mwarning(\n\u001b[0;32m    240\u001b[0m         \u001b[39m'\u001b[39m\u001b[39mUnable to proceed with rendering. Please check selection.\u001b[39m\u001b[39m'\u001b[39m)\n",
      "File \u001b[1;32mc:\\users\\lfl\\qiskit-metal\\qiskit_metal\\renderers\\renderer_ansys_pyaedt\\hfss_renderer_aedt.py:240\u001b[0m, in \u001b[0;36mQHFSSPyaedt.render_design\u001b[1;34m(self, selection, open_pins, port_list, jj_to_port, ignored_jjs, box_plus_buffer)\u001b[0m\n\u001b[0;32m    236\u001b[0m \u001b[39m# Add something to clear design.\u001b[39;00m\n\u001b[0;32m    238\u001b[0m \u001b[39mself\u001b[39m\u001b[39m.\u001b[39mdraw_sample_holder()\n\u001b[1;32m--> 240\u001b[0m \u001b[39mself\u001b[39;49m\u001b[39m.\u001b[39;49maedt_render_by_layer_then_tables(skip_junction\u001b[39m=\u001b[39;49m\u001b[39mFalse\u001b[39;49;00m,\n\u001b[0;32m    241\u001b[0m                                       open_pins\u001b[39m=\u001b[39;49mopen_pins,\n\u001b[0;32m    242\u001b[0m                                       port_list\u001b[39m=\u001b[39;49mport_list,\n\u001b[0;32m    243\u001b[0m                                       jj_to_port\u001b[39m=\u001b[39;49mjj_to_port,\n\u001b[0;32m    244\u001b[0m                                       ignored_jjs\u001b[39m=\u001b[39;49mignored_jjs)\n",
      "File \u001b[1;32mc:\\users\\lfl\\qiskit-metal\\qiskit_metal\\renderers\\renderer_ansys_pyaedt\\hfss_renderer_aedt.py:294\u001b[0m, in \u001b[0;36mQHFSSPyaedt.aedt_render_by_layer_then_tables\u001b[1;34m(self, open_pins, port_list, jj_to_port, ignored_jjs, skip_junction, data_type)\u001b[0m\n\u001b[0;32m    291\u001b[0m \u001b[39mfor\u001b[39;00m table_type \u001b[39min\u001b[39;00m \u001b[39mself\u001b[39m\u001b[39m.\u001b[39mdesign\u001b[39m.\u001b[39mqgeometry\u001b[39m.\u001b[39mget_element_types():\n\u001b[0;32m    292\u001b[0m     \u001b[39mif\u001b[39;00m table_type \u001b[39m!=\u001b[39m \u001b[39m'\u001b[39m\u001b[39mjunction\u001b[39m\u001b[39m'\u001b[39m \u001b[39mor\u001b[39;00m \u001b[39mnot\u001b[39;00m skip_junction:\n\u001b[0;32m    293\u001b[0m         \u001b[39m#At this point, we know table type,\u001b[39;00m\n\u001b[1;32m--> 294\u001b[0m         \u001b[39mself\u001b[39;49m\u001b[39m.\u001b[39;49mrender_components(table_type, layer_num,\n\u001b[0;32m    295\u001b[0m                                port_list_subset, jj_to_port_subset,\n\u001b[0;32m    296\u001b[0m                                ignored_jjs_subset)\n\u001b[0;32m    298\u001b[0m \u001b[39m#For each layer, add the endcaps and\u001b[39;00m\n\u001b[0;32m    299\u001b[0m \u001b[39m# add polyline to subtract to self.chip_subtract_dict[layer_num].\u001b[39;00m\n\u001b[0;32m    301\u001b[0m \u001b[39mif\u001b[39;00m \u001b[39misinstance\u001b[39m(open_pins_subset, \u001b[39mlist\u001b[39m) \u001b[39mand\u001b[39;00m \u001b[39mself\u001b[39m\u001b[39m.\u001b[39mopen_pins_is_valid:\n\u001b[0;32m    302\u001b[0m     \u001b[39m# Only use this method if user defines open pins.\u001b[39;00m\n",
      "File \u001b[1;32mc:\\users\\lfl\\qiskit-metal\\qiskit_metal\\renderers\\renderer_ansys_pyaedt\\pyaedt_base.py:289\u001b[0m, in \u001b[0;36mQPyaedt.render_components\u001b[1;34m(self, table_type, layer_num, port_list, jj_to_port, ignored_jjs)\u001b[0m\n\u001b[0;32m    286\u001b[0m table_to_use \u001b[39m=\u001b[39m table[mask_layer]\n\u001b[0;32m    288\u001b[0m \u001b[39mfor\u001b[39;00m _, qgeom \u001b[39min\u001b[39;00m table_to_use\u001b[39m.\u001b[39miterrows():\n\u001b[1;32m--> 289\u001b[0m     \u001b[39mself\u001b[39;49m\u001b[39m.\u001b[39;49mrender_element(qgeom,\n\u001b[0;32m    290\u001b[0m                         \u001b[39mbool\u001b[39;49m(table_type \u001b[39m==\u001b[39;49m \u001b[39m'\u001b[39;49m\u001b[39mjunction\u001b[39;49m\u001b[39m'\u001b[39;49m),\n\u001b[0;32m    291\u001b[0m                         port_list\u001b[39m=\u001b[39;49mport_list,\n\u001b[0;32m    292\u001b[0m                         jj_to_port\u001b[39m=\u001b[39;49mjj_to_port,\n\u001b[0;32m    293\u001b[0m                         ignored_jjs\u001b[39m=\u001b[39;49mignored_jjs)\n",
      "File \u001b[1;32mc:\\users\\lfl\\qiskit-metal\\qiskit_metal\\renderers\\renderer_ansys_pyaedt\\hfss_renderer_aedt.py:483\u001b[0m, in \u001b[0;36mQHFSSPyaedt.render_element\u001b[1;34m(self, qgeom, is_junction, port_list, jj_to_port, ignored_jjs)\u001b[0m\n\u001b[0;32m    481\u001b[0m     \u001b[39mself\u001b[39m\u001b[39m.\u001b[39mrender_element_poly(qgeom)\n\u001b[0;32m    482\u001b[0m \u001b[39melif\u001b[39;00m \u001b[39misinstance\u001b[39m(qc_shapely, shapely\u001b[39m.\u001b[39mgeometry\u001b[39m.\u001b[39mLineString):\n\u001b[1;32m--> 483\u001b[0m     \u001b[39mself\u001b[39;49m\u001b[39m.\u001b[39;49mrender_element_path(qgeom)\n",
      "File \u001b[1;32mc:\\users\\lfl\\qiskit-metal\\qiskit_metal\\renderers\\renderer_ansys_pyaedt\\pyaedt_base.py:346\u001b[0m, in \u001b[0;36mQPyaedt.render_element_path\u001b[1;34m(self, qgeom)\u001b[0m\n\u001b[0;32m    337\u001b[0m a_polyline \u001b[39m=\u001b[39m \u001b[39mself\u001b[39m\u001b[39m.\u001b[39mcurrent_app\u001b[39m.\u001b[39mmodeler\u001b[39m.\u001b[39mcreate_polyline(\n\u001b[0;32m    338\u001b[0m     points_3d,\n\u001b[0;32m    339\u001b[0m     name\u001b[39m=\u001b[39mname,\n\u001b[0;32m    340\u001b[0m     cover_surface\u001b[39m=\u001b[39m\u001b[39mFalse\u001b[39;00m,\n\u001b[0;32m    341\u001b[0m     close_surface\u001b[39m=\u001b[39m\u001b[39mFalse\u001b[39;00m,\n\u001b[0;32m    342\u001b[0m     matname\u001b[39m=\u001b[39mmaterial)\n\u001b[0;32m    344\u001b[0m \u001b[39m# The transparency is hardcoded.  Ugh.\u001b[39;00m\n\u001b[0;32m    345\u001b[0m \u001b[39m# However, it was hardcoded without pyaedt, so for now, will leave it alone.\u001b[39;00m\n\u001b[1;32m--> 346\u001b[0m \u001b[39mself\u001b[39;49m\u001b[39m.\u001b[39;49mcurrent_app\u001b[39m.\u001b[39;49mmodeler[name]\u001b[39m.\u001b[39;49mtransparency \u001b[39m=\u001b[39m \u001b[39m0.0\u001b[39m\n\u001b[0;32m    348\u001b[0m \u001b[39m# Note: Linestring does not have interior and exterior coords.\u001b[39;00m\n\u001b[0;32m    349\u001b[0m qc_fillet \u001b[39m=\u001b[39m \u001b[39mround\u001b[39m(qgeom\u001b[39m.\u001b[39mfillet, \u001b[39m7\u001b[39m)\n",
      "\u001b[1;31mAttributeError\u001b[0m: 'NoneType' object has no attribute 'transparency'"
     ]
    }
   ],
   "source": [
    "sweep_parameters = Dict(\n",
    "  qubit_options = Dict(\n",
    "    connection_pads = Dict(\n",
    "      readout = Dict(\n",
    "        connector_type = '0', \n",
    "        claw_length = ['185um', '195um', '205um', '215um'],\n",
    "        ground_spacing = ['4um', '5um', '7um', '9um', '10um'], \n",
    "        claw_gap = ['5.1um'], \n",
    "        claw_width = ['10um', '15um'],\n",
    "        claw_cpw_length=['40um'],\n",
    "        claw_cpw_width=['10um'],\n",
    "        connector_location = '90'\n",
    "        )\n",
    "      ),\n",
    "    cross_width = ['30um'],\n",
    "    cross_length = ['185um', '195um', '205um', '215um', '225um', '235um'],\n",
    "    cross_gap = ['29um'],\n",
    "    aedt_hfss_inductance = [9.686E-9, 10.471E-9, 11.268E-9, 12.679-9, 13.816]\n",
    "    ),\n",
    "  cavity_options = Dict(\n",
    "    coupling_type = ['capacitive'],\n",
    "    coupler_options = Dict(\n",
    "      coupling_length = ['200um', '225um'],\n",
    "      coupling_space = ['7um', '7.9um']\n",
    "    ),\n",
    "    cpw_options = Dict(total_length = ['3900um', '8150um', '8025um', '3700um', '3550um', '8000um', '3.58mm', '3.5mm', '3.46mm'],\n",
    "                      left_options = Dict(lead = Dict()))\n",
    "  )\n",
    ")\n",
    "\n",
    "qubit_options = Dict(\n",
    "    connection_pads = Dict(\n",
    "      readout = Dict(\n",
    "        connector_type = '0', \n",
    "        claw_length = ['185um', '195um', '205um', '215um'],\n",
    "        ground_spacing = ['4um', '5um', '7um', '9um', '10um'], \n",
    "        claw_gap = ['5.1um'], \n",
    "        claw_width = ['10um', '15um'],\n",
    "        claw_cpw_length=['40um'],\n",
    "        claw_cpw_width=['10um'],\n",
    "        connector_location = '90'\n",
    "        )\n",
    "    ))\n",
    "\n",
    "my_librarian = sweeper.run_single_component_sweep(component_name='qubit1',\n",
    "                                                  parameters = qubit_options,\n",
    "                                                  custom_analysis = run_single_design,\n",
    "                                                  parameters_slice=slice(100,),\n",
    "                                                  save_path=\"qubitcavity_epr_sweepv2.6.csv\")"
   ]
  },
  {
   "cell_type": "code",
   "execution_count": null,
   "metadata": {},
   "outputs": [
    {
     "data": {
      "text/plain": [
       "['Position',\n",
       " 'SweepOptions',\n",
       " '__class__',\n",
       " '__delattr__',\n",
       " '__dict__',\n",
       " '__dir__',\n",
       " '__doc__',\n",
       " '__eq__',\n",
       " '__format__',\n",
       " '__ge__',\n",
       " '__get__',\n",
       " '__getattribute__',\n",
       " '__getitem__',\n",
       " '__getstate__',\n",
       " '__gt__',\n",
       " '__hash__',\n",
       " '__init__',\n",
       " '__init_subclass__',\n",
       " '__le__',\n",
       " '__lt__',\n",
       " '__module__',\n",
       " '__ne__',\n",
       " '__new__',\n",
       " '__reduce__',\n",
       " '__reduce_ex__',\n",
       " '__repr__',\n",
       " '__setattr__',\n",
       " '__sizeof__',\n",
       " '__str__',\n",
       " '__subclasshook__',\n",
       " '__weakref__',\n",
       " '_all_object_names',\n",
       " '_app',\n",
       " '_arg_with_dim',\n",
       " '_change_component_property',\n",
       " '_change_geometry_property',\n",
       " '_change_plane_property',\n",
       " '_change_point_property',\n",
       " '_check_actor_folder',\n",
       " '_check_material',\n",
       " '_check_value_type',\n",
       " '_convert_list_to_ids',\n",
       " '_coordinate_systems',\n",
       " '_create_microstrip_sheet_from_object_closest_edge',\n",
       " '_create_object',\n",
       " '_create_point',\n",
       " '_create_sheet_from_object_closest_edge',\n",
       " '_create_user_defined_component',\n",
       " '_crosssection_arguments',\n",
       " '_currentId',\n",
       " '_default_object_attributes',\n",
       " '_desktop',\n",
       " '_duplicate_added_components_tuple',\n",
       " '_duplicate_added_objects_tuple',\n",
       " '_find_object_from_edge_id',\n",
       " '_find_object_from_face_id',\n",
       " '_find_perpendicular_points',\n",
       " '_get_coordinates_data',\n",
       " '_get_faceid_on_axis',\n",
       " '_get_lists_data',\n",
       " '_get_model_objects',\n",
       " '_get_native_component_properties',\n",
       " '_get_planes_data',\n",
       " '_imprint_projection',\n",
       " '_initialize_multipart',\n",
       " '_is3d',\n",
       " '_lines',\n",
       " '_make_core',\n",
       " '_make_double_linked_winding',\n",
       " '_make_double_winding',\n",
       " '_make_triple_linked_winding',\n",
       " '_make_triple_winding',\n",
       " '_make_winding',\n",
       " '_make_winding_follow_chamfer',\n",
       " '_materials',\n",
       " '_modeler',\n",
       " '_odefinition_manager',\n",
       " '_odesign',\n",
       " '_offset_on_plane',\n",
       " '_oimportexport',\n",
       " '_omaterial_manager',\n",
       " '_oproject',\n",
       " '_planes',\n",
       " '_points',\n",
       " '_pos_with_arg',\n",
       " '_refresh_all_ids_from_aedt_file',\n",
       " '_refresh_lines',\n",
       " '_refresh_object_types',\n",
       " '_refresh_planes',\n",
       " '_refresh_points',\n",
       " '_refresh_sheets',\n",
       " '_refresh_solids',\n",
       " '_refresh_unclassified',\n",
       " '_resolve_object',\n",
       " '_sheets',\n",
       " '_solids',\n",
       " '_str_list',\n",
       " '_unclassified',\n",
       " '_user_lists',\n",
       " 'add_bird',\n",
       " 'add_environment',\n",
       " 'add_new_objects',\n",
       " 'add_new_user_defined_component',\n",
       " 'add_person',\n",
       " 'add_vehicle',\n",
       " 'automatic_thicken_sheets',\n",
       " 'break_spaceclaim_connection',\n",
       " 'chassis_subtraction',\n",
       " 'check_choke_values',\n",
       " 'check_plane',\n",
       " 'clean_objects_name',\n",
       " 'cleanup_objects',\n",
       " 'clone',\n",
       " 'connect',\n",
       " 'convert_segments_to_line',\n",
       " 'convert_to_selections',\n",
       " 'coordinate_systems',\n",
       " 'cover_lines',\n",
       " 'create_3dcomponent',\n",
       " 'create_air_region',\n",
       " 'create_airbox',\n",
       " 'create_bondwire',\n",
       " 'create_box',\n",
       " 'create_choke',\n",
       " 'create_circle',\n",
       " 'create_coaxial',\n",
       " 'create_cone',\n",
       " 'create_coordinate_system',\n",
       " 'create_cylinder',\n",
       " 'create_ellipse',\n",
       " 'create_equationbased_curve',\n",
       " 'create_face_coordinate_system',\n",
       " 'create_face_list',\n",
       " 'create_faceted_bondwire_from_true_surface',\n",
       " 'create_group',\n",
       " 'create_helix',\n",
       " 'create_object_from_edge',\n",
       " 'create_object_from_face',\n",
       " 'create_object_list',\n",
       " 'create_outer_facelist',\n",
       " 'create_plane',\n",
       " 'create_point',\n",
       " 'create_polyhedron',\n",
       " 'create_polyline',\n",
       " 'create_rectangle',\n",
       " 'create_region',\n",
       " 'create_sheet_to_ground',\n",
       " 'create_sphere',\n",
       " 'create_spiral',\n",
       " 'create_spiral_on_face',\n",
       " 'create_torus',\n",
       " 'create_udm',\n",
       " 'create_udp',\n",
       " 'create_waveguide',\n",
       " 'defaultmaterial',\n",
       " 'delete',\n",
       " 'delete_objects_containing',\n",
       " 'design_type',\n",
       " 'dimension',\n",
       " 'does_object_exists',\n",
       " 'duplicate_along_line',\n",
       " 'duplicate_and_mirror',\n",
       " 'duplicate_around_axis',\n",
       " 'duplicate_coordinate_system_to_global',\n",
       " 'edit_region_dimensions',\n",
       " 'explicitly_subtract',\n",
       " 'find_closest_edges',\n",
       " 'find_new_objects',\n",
       " 'find_point_around',\n",
       " 'find_port_faces',\n",
       " 'fit_all',\n",
       " 'flatten_assembly',\n",
       " 'generate_object_history',\n",
       " 'geometry_mode',\n",
       " 'get_3d_component_object_list',\n",
       " 'get_bodynames_from_position',\n",
       " 'get_boundaries_name',\n",
       " 'get_bounding_dimension',\n",
       " 'get_closest_edgeid_to_position',\n",
       " 'get_edge_length',\n",
       " 'get_edge_midpoint',\n",
       " 'get_edge_vertices',\n",
       " 'get_edgeid_from_position',\n",
       " 'get_edgeids_from_vertexid',\n",
       " 'get_edges_for_circuit_port',\n",
       " 'get_edges_for_circuit_port_from_sheet',\n",
       " 'get_edges_on_bounding_box',\n",
       " 'get_entitylist_id',\n",
       " 'get_equivalent_parallel_edges',\n",
       " 'get_existing_polyline',\n",
       " 'get_face_area',\n",
       " 'get_face_center',\n",
       " 'get_face_edges',\n",
       " 'get_face_vertices',\n",
       " 'get_faceid_from_position',\n",
       " 'get_faces_from_materials',\n",
       " 'get_group_bounding_box',\n",
       " 'get_line_ids',\n",
       " 'get_matched_object_name',\n",
       " 'get_mid_points_on_dir',\n",
       " 'get_model_bounding_box',\n",
       " 'get_obj_id',\n",
       " 'get_object_edges',\n",
       " 'get_object_faces',\n",
       " 'get_object_from_name',\n",
       " 'get_object_name_from_edge_id',\n",
       " 'get_object_vertices',\n",
       " 'get_objects_by_material',\n",
       " 'get_objects_in_group',\n",
       " 'get_objects_w_string',\n",
       " 'get_solving_volume',\n",
       " 'get_vertex_position',\n",
       " 'get_vertices_of_line',\n",
       " 'global_to_cs',\n",
       " 'import_3d_cad',\n",
       " 'import_from_openstreet_map',\n",
       " 'import_nastran',\n",
       " 'import_spaceclaim_document',\n",
       " 'imprint',\n",
       " 'imprint_normal_projection',\n",
       " 'imprint_vector_projection',\n",
       " 'insert_3d_component',\n",
       " 'intersect',\n",
       " 'invert_cs',\n",
       " 'line_names',\n",
       " 'line_objects',\n",
       " 'load_hfss',\n",
       " 'load_objects_bytype',\n",
       " 'load_scdm_in_hfss',\n",
       " 'logger',\n",
       " 'materials',\n",
       " 'mirror',\n",
       " 'model_consistency_report',\n",
       " 'model_objects',\n",
       " 'model_units',\n",
       " 'modeler',\n",
       " 'modeler_variable',\n",
       " 'move',\n",
       " 'move_edge',\n",
       " 'move_face',\n",
       " 'multiparts',\n",
       " 'non_model_names',\n",
       " 'non_model_objects',\n",
       " 'object_id_dict',\n",
       " 'object_list',\n",
       " 'object_names',\n",
       " 'objects',\n",
       " 'objects_in_bounding_box',\n",
       " 'obounding_box',\n",
       " 'oeditor',\n",
       " 'planes',\n",
       " 'point_names',\n",
       " 'point_objects',\n",
       " 'points',\n",
       " 'polyline_segment',\n",
       " 'primitives',\n",
       " 'projdir',\n",
       " 'purge_history',\n",
       " 'reference_cs_to_global',\n",
       " 'refresh',\n",
       " 'refresh_all_ids',\n",
       " 'replace_3dcomponent',\n",
       " 'rotate',\n",
       " 'scale',\n",
       " 'section',\n",
       " 'select_allfaces_fromobjects',\n",
       " 'selections',\n",
       " 'separate_bodies',\n",
       " 'set_object_model_state',\n",
       " 'set_objects_deformation',\n",
       " 'set_objects_temperature',\n",
       " 'set_working_coordinate_system',\n",
       " 'setunassigned_mats',\n",
       " 'sheet_names',\n",
       " 'sheet_objects',\n",
       " 'solid_bodies',\n",
       " 'solid_names',\n",
       " 'solid_objects',\n",
       " 'split',\n",
       " 'subtract',\n",
       " 'sweep_along_normal',\n",
       " 'sweep_along_path',\n",
       " 'sweep_along_vector',\n",
       " 'sweep_around_axis',\n",
       " 'thicken_sheet',\n",
       " 'translate',\n",
       " 'unclassified_names',\n",
       " 'unclassified_objects',\n",
       " 'ungroup',\n",
       " 'unite',\n",
       " 'update_object',\n",
       " 'update_udp',\n",
       " 'user_defined_component_names',\n",
       " 'user_defined_components',\n",
       " 'user_lists',\n",
       " 'value_in_object_units',\n",
       " 'version',\n",
       " 'vertex_data_of_lines',\n",
       " 'wrap_sheet']"
      ]
     },
     "execution_count": 16,
     "metadata": {},
     "output_type": "execute_result"
    }
   ],
   "source": [
    "dir(em1_aedt.current_app.modeler)"
   ]
  }
 ],
 "metadata": {
  "kernelspec": {
   "display_name": "qiskit_metal",
   "language": "python",
   "name": "qiskit_metal"
  },
  "language_info": {
   "codemirror_mode": {
    "name": "ipython",
    "version": 3
   },
   "file_extension": ".py",
   "mimetype": "text/x-python",
   "name": "python",
   "nbconvert_exporter": "python",
   "pygments_lexer": "ipython3",
   "version": "3.11.4"
  },
  "orig_nbformat": 4
 },
 "nbformat": 4,
 "nbformat_minor": 2
}
